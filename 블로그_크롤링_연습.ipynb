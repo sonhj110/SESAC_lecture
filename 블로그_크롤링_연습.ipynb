{
  "nbformat": 4,
  "nbformat_minor": 0,
  "metadata": {
    "colab": {
      "provenance": [],
      "authorship_tag": "ABX9TyMGu9akq3S2U8I7pjWByUGI",
      "include_colab_link": true
    },
    "kernelspec": {
      "name": "python3",
      "display_name": "Python 3"
    },
    "language_info": {
      "name": "python"
    },
    "widgets": {
      "application/vnd.jupyter.widget-state+json": {
        "b04b777ee873415fb2d3b8737582e70c": {
          "model_module": "@jupyter-widgets/controls",
          "model_name": "HBoxModel",
          "model_module_version": "1.5.0",
          "state": {
            "_dom_classes": [],
            "_model_module": "@jupyter-widgets/controls",
            "_model_module_version": "1.5.0",
            "_model_name": "HBoxModel",
            "_view_count": null,
            "_view_module": "@jupyter-widgets/controls",
            "_view_module_version": "1.5.0",
            "_view_name": "HBoxView",
            "box_style": "",
            "children": [
              "IPY_MODEL_14c4c2df821a46d6bc4271e218de60f4",
              "IPY_MODEL_38d4a92cbc294fd39a942c3ee8509730",
              "IPY_MODEL_cd815f074d7e440086ded72afa5dcdef"
            ],
            "layout": "IPY_MODEL_058123ed998f46349aa6b2f5b0d277a8"
          }
        },
        "14c4c2df821a46d6bc4271e218de60f4": {
          "model_module": "@jupyter-widgets/controls",
          "model_name": "HTMLModel",
          "model_module_version": "1.5.0",
          "state": {
            "_dom_classes": [],
            "_model_module": "@jupyter-widgets/controls",
            "_model_module_version": "1.5.0",
            "_model_name": "HTMLModel",
            "_view_count": null,
            "_view_module": "@jupyter-widgets/controls",
            "_view_module_version": "1.5.0",
            "_view_name": "HTMLView",
            "description": "",
            "description_tooltip": null,
            "layout": "IPY_MODEL_7f7bb40974b3475298811798547bad50",
            "placeholder": "​",
            "style": "IPY_MODEL_b935499df2804a1dbe3023a0833cd2bf",
            "value": "100%"
          }
        },
        "38d4a92cbc294fd39a942c3ee8509730": {
          "model_module": "@jupyter-widgets/controls",
          "model_name": "FloatProgressModel",
          "model_module_version": "1.5.0",
          "state": {
            "_dom_classes": [],
            "_model_module": "@jupyter-widgets/controls",
            "_model_module_version": "1.5.0",
            "_model_name": "FloatProgressModel",
            "_view_count": null,
            "_view_module": "@jupyter-widgets/controls",
            "_view_module_version": "1.5.0",
            "_view_name": "ProgressView",
            "bar_style": "success",
            "description": "",
            "description_tooltip": null,
            "layout": "IPY_MODEL_1d8f1d12f3054a02acf4db475f84a203",
            "max": 10,
            "min": 0,
            "orientation": "horizontal",
            "style": "IPY_MODEL_577fac27b92648c398066fe3c69bc1f1",
            "value": 10
          }
        },
        "cd815f074d7e440086ded72afa5dcdef": {
          "model_module": "@jupyter-widgets/controls",
          "model_name": "HTMLModel",
          "model_module_version": "1.5.0",
          "state": {
            "_dom_classes": [],
            "_model_module": "@jupyter-widgets/controls",
            "_model_module_version": "1.5.0",
            "_model_name": "HTMLModel",
            "_view_count": null,
            "_view_module": "@jupyter-widgets/controls",
            "_view_module_version": "1.5.0",
            "_view_name": "HTMLView",
            "description": "",
            "description_tooltip": null,
            "layout": "IPY_MODEL_f17ea4cb190a4756b9b6dc986e8b698c",
            "placeholder": "​",
            "style": "IPY_MODEL_34998cb4c9d2478aab13458b470e8ee4",
            "value": " 10/10 [00:50&lt;00:00,  7.36s/it]"
          }
        },
        "058123ed998f46349aa6b2f5b0d277a8": {
          "model_module": "@jupyter-widgets/base",
          "model_name": "LayoutModel",
          "model_module_version": "1.2.0",
          "state": {
            "_model_module": "@jupyter-widgets/base",
            "_model_module_version": "1.2.0",
            "_model_name": "LayoutModel",
            "_view_count": null,
            "_view_module": "@jupyter-widgets/base",
            "_view_module_version": "1.2.0",
            "_view_name": "LayoutView",
            "align_content": null,
            "align_items": null,
            "align_self": null,
            "border": null,
            "bottom": null,
            "display": null,
            "flex": null,
            "flex_flow": null,
            "grid_area": null,
            "grid_auto_columns": null,
            "grid_auto_flow": null,
            "grid_auto_rows": null,
            "grid_column": null,
            "grid_gap": null,
            "grid_row": null,
            "grid_template_areas": null,
            "grid_template_columns": null,
            "grid_template_rows": null,
            "height": null,
            "justify_content": null,
            "justify_items": null,
            "left": null,
            "margin": null,
            "max_height": null,
            "max_width": null,
            "min_height": null,
            "min_width": null,
            "object_fit": null,
            "object_position": null,
            "order": null,
            "overflow": null,
            "overflow_x": null,
            "overflow_y": null,
            "padding": null,
            "right": null,
            "top": null,
            "visibility": null,
            "width": null
          }
        },
        "7f7bb40974b3475298811798547bad50": {
          "model_module": "@jupyter-widgets/base",
          "model_name": "LayoutModel",
          "model_module_version": "1.2.0",
          "state": {
            "_model_module": "@jupyter-widgets/base",
            "_model_module_version": "1.2.0",
            "_model_name": "LayoutModel",
            "_view_count": null,
            "_view_module": "@jupyter-widgets/base",
            "_view_module_version": "1.2.0",
            "_view_name": "LayoutView",
            "align_content": null,
            "align_items": null,
            "align_self": null,
            "border": null,
            "bottom": null,
            "display": null,
            "flex": null,
            "flex_flow": null,
            "grid_area": null,
            "grid_auto_columns": null,
            "grid_auto_flow": null,
            "grid_auto_rows": null,
            "grid_column": null,
            "grid_gap": null,
            "grid_row": null,
            "grid_template_areas": null,
            "grid_template_columns": null,
            "grid_template_rows": null,
            "height": null,
            "justify_content": null,
            "justify_items": null,
            "left": null,
            "margin": null,
            "max_height": null,
            "max_width": null,
            "min_height": null,
            "min_width": null,
            "object_fit": null,
            "object_position": null,
            "order": null,
            "overflow": null,
            "overflow_x": null,
            "overflow_y": null,
            "padding": null,
            "right": null,
            "top": null,
            "visibility": null,
            "width": null
          }
        },
        "b935499df2804a1dbe3023a0833cd2bf": {
          "model_module": "@jupyter-widgets/controls",
          "model_name": "DescriptionStyleModel",
          "model_module_version": "1.5.0",
          "state": {
            "_model_module": "@jupyter-widgets/controls",
            "_model_module_version": "1.5.0",
            "_model_name": "DescriptionStyleModel",
            "_view_count": null,
            "_view_module": "@jupyter-widgets/base",
            "_view_module_version": "1.2.0",
            "_view_name": "StyleView",
            "description_width": ""
          }
        },
        "1d8f1d12f3054a02acf4db475f84a203": {
          "model_module": "@jupyter-widgets/base",
          "model_name": "LayoutModel",
          "model_module_version": "1.2.0",
          "state": {
            "_model_module": "@jupyter-widgets/base",
            "_model_module_version": "1.2.0",
            "_model_name": "LayoutModel",
            "_view_count": null,
            "_view_module": "@jupyter-widgets/base",
            "_view_module_version": "1.2.0",
            "_view_name": "LayoutView",
            "align_content": null,
            "align_items": null,
            "align_self": null,
            "border": null,
            "bottom": null,
            "display": null,
            "flex": null,
            "flex_flow": null,
            "grid_area": null,
            "grid_auto_columns": null,
            "grid_auto_flow": null,
            "grid_auto_rows": null,
            "grid_column": null,
            "grid_gap": null,
            "grid_row": null,
            "grid_template_areas": null,
            "grid_template_columns": null,
            "grid_template_rows": null,
            "height": null,
            "justify_content": null,
            "justify_items": null,
            "left": null,
            "margin": null,
            "max_height": null,
            "max_width": null,
            "min_height": null,
            "min_width": null,
            "object_fit": null,
            "object_position": null,
            "order": null,
            "overflow": null,
            "overflow_x": null,
            "overflow_y": null,
            "padding": null,
            "right": null,
            "top": null,
            "visibility": null,
            "width": null
          }
        },
        "577fac27b92648c398066fe3c69bc1f1": {
          "model_module": "@jupyter-widgets/controls",
          "model_name": "ProgressStyleModel",
          "model_module_version": "1.5.0",
          "state": {
            "_model_module": "@jupyter-widgets/controls",
            "_model_module_version": "1.5.0",
            "_model_name": "ProgressStyleModel",
            "_view_count": null,
            "_view_module": "@jupyter-widgets/base",
            "_view_module_version": "1.2.0",
            "_view_name": "StyleView",
            "bar_color": null,
            "description_width": ""
          }
        },
        "f17ea4cb190a4756b9b6dc986e8b698c": {
          "model_module": "@jupyter-widgets/base",
          "model_name": "LayoutModel",
          "model_module_version": "1.2.0",
          "state": {
            "_model_module": "@jupyter-widgets/base",
            "_model_module_version": "1.2.0",
            "_model_name": "LayoutModel",
            "_view_count": null,
            "_view_module": "@jupyter-widgets/base",
            "_view_module_version": "1.2.0",
            "_view_name": "LayoutView",
            "align_content": null,
            "align_items": null,
            "align_self": null,
            "border": null,
            "bottom": null,
            "display": null,
            "flex": null,
            "flex_flow": null,
            "grid_area": null,
            "grid_auto_columns": null,
            "grid_auto_flow": null,
            "grid_auto_rows": null,
            "grid_column": null,
            "grid_gap": null,
            "grid_row": null,
            "grid_template_areas": null,
            "grid_template_columns": null,
            "grid_template_rows": null,
            "height": null,
            "justify_content": null,
            "justify_items": null,
            "left": null,
            "margin": null,
            "max_height": null,
            "max_width": null,
            "min_height": null,
            "min_width": null,
            "object_fit": null,
            "object_position": null,
            "order": null,
            "overflow": null,
            "overflow_x": null,
            "overflow_y": null,
            "padding": null,
            "right": null,
            "top": null,
            "visibility": null,
            "width": null
          }
        },
        "34998cb4c9d2478aab13458b470e8ee4": {
          "model_module": "@jupyter-widgets/controls",
          "model_name": "DescriptionStyleModel",
          "model_module_version": "1.5.0",
          "state": {
            "_model_module": "@jupyter-widgets/controls",
            "_model_module_version": "1.5.0",
            "_model_name": "DescriptionStyleModel",
            "_view_count": null,
            "_view_module": "@jupyter-widgets/base",
            "_view_module_version": "1.2.0",
            "_view_name": "StyleView",
            "description_width": ""
          }
        }
      }
    }
  },
  "cells": [
    {
      "cell_type": "markdown",
      "metadata": {
        "id": "view-in-github",
        "colab_type": "text"
      },
      "source": [
        "<a href=\"https://colab.research.google.com/github/sonhj110/SESAC_lecture/blob/master/%EB%B8%94%EB%A1%9C%EA%B7%B8_%ED%81%AC%EB%A1%A4%EB%A7%81_%EC%97%B0%EC%8A%B5.ipynb\" target=\"_parent\"><img src=\"https://colab.research.google.com/assets/colab-badge.svg\" alt=\"Open In Colab\"/></a>"
      ]
    },
    {
      "cell_type": "markdown",
      "source": [
        "# get_blog 함수\n"
      ],
      "metadata": {
        "id": "9NEu_2Mbzvfi"
      }
    },
    {
      "cell_type": "code",
      "execution_count": null,
      "metadata": {
        "id": "rviDUB6ujWRS"
      },
      "outputs": [],
      "source": [
        "import requests\n",
        "from bs4 import BeautifulSoup\n",
        "import pandas as pd\n",
        "import csv\n",
        "import re\n",
        "\n",
        "def get_blog(URL) :\n",
        "\n",
        "  # h = {'User-Agent':'Mozilla/5.0 (Windows NT 10.0; Win64; x64) AppleWebKit/537.36 (KHTML, like Gecko) Chrome/116.0.0.0 Safari/537.36'}\n",
        "  tmp = URL.split('/')\n",
        "  res = requests.get(URL)\n",
        "  soup = BeautifulSoup(res.text, 'html.parser')\n",
        "\n",
        "  response = requests.get(f'https://blog.naver.com/PostView.naver?blogId={tmp[-2]}&logNo={tmp[-1]}')\n",
        "  blog = BeautifulSoup(response.text, 'html.parser')\n",
        "\n",
        "  if blog.select_one('div.se-title-text') :\n",
        "    # print('type1')\n",
        "    title = blog.select_one('div.se-title-text').text.strip()\n",
        "    category = blog.select_one('div.blog2_series > a').text\n",
        "    author = blog.select_one('span.nick > a').text\n",
        "    date = blog.select_one('span.se_publishDate').text\n",
        "    contents = blog.select_one('div.se-main-container').text.replace('\\n','')\n",
        "\n",
        "  elif blog.select_one('div.se_component_wrap') :\n",
        "    # print('type2')\n",
        "    title = blog.select_one('h3.se_textarea').text.strip()\n",
        "    category = blog.select_one('div.blog2_series > a').text\n",
        "    author = blog.select_one('span.nick > a').text\n",
        "    date = blog.select_one('span.se_publishDate').text\n",
        "    contents = blog.select('div.se_component_wrap')[1].text.strip().replace('\\n','')\n",
        "\n",
        "  elif soup.select_one('div.hgroup > h1') :\n",
        "    # print('type3')\n",
        "    title = soup.select_one('div.hgroup > h1').text\n",
        "    category = soup.select_one('div.hgroup > div.category').text\n",
        "    author = soup.select_one('span.author').text\n",
        "    date = soup.select_one('span.date').text.strip()\n",
        "    contents = soup.select_one('div.contents_style').text.replace('\\n','').strip()\n",
        "\n",
        "  elif soup.select('div.titlebox > h2 > a') :\n",
        "    # print('type4')\n",
        "    title = soup.select('div.titlebox > h2 > a')[1].text\n",
        "    category = soup.select_one('a.category').text\n",
        "    author = soup.select_one('div.owner > span').text\n",
        "    date = re.search('[0-9]{4}-.+:[0-9]{2}', soup.select_one('div.date > div.fr > h4').text).group()\n",
        "    contents = soup.select_one('div.article').text.replace('\\n', '').strip()\n",
        "\n",
        "  elif soup.select_one('div.titleWrap > h2') :\n",
        "    # print('type5')\n",
        "    title = soup.select_one('div.titleWrap > h2').text\n",
        "    category = soup.select_one('div.another_category > h4 > a').text\n",
        "    author = re.sub('<.+>', '', str(soup.select_one('div.author'))).strip()\n",
        "    _text = soup.select_one('meta[property=\"article:published_time\"]')['content']\n",
        "    date = re.sub('[A-Z]', ' ', re.search('[0-9]{4}-[0-9]{2}-[0-9]{2}.[0-9]{2}:[0-9]{2}', _text).group())\n",
        "    contents = soup.select_one('div.contents_style').text.replace('\\n','').strip()\n",
        "\n",
        "  elif soup.select_one('h1.entry-title') :\n",
        "    # print('type6')\n",
        "    title = soup.select_one('h1.entry-title').text\n",
        "    category = soup.select_one('div#primary-menu > ul > li > a').text\n",
        "    author = re.search('[A-Za-z0-9]+(?=@)', soup.select_one('div.copyright-bar').text).group()\n",
        "    _text = soup.select_one('span.posted-on > time')['datetime']\n",
        "    date = re.sub('[A-Z]', ' ', re.search('[0-9]{4}-[0-9]{2}-[0-9]{2}.[0-9]{2}:[0-9]{2}', _text).group())\n",
        "    contents = soup.select_one('div.entry-content').text.replace('\\n', '').strip()\n",
        "\n",
        "  elif soup.select_one('h2,title-article') :\n",
        "    # print('type7')\n",
        "    title = soup.select_one('h2,title-article').text\n",
        "    category = soup.select_one('p.category').text\n",
        "    author = soup.select_one('span.writer').text\n",
        "    date = soup.select_one('span.date').text\n",
        "    contents = soup.select_one('div.contents_style').text.replace('\\n', '').strip()\n",
        "\n",
        "  else :\n",
        "    print('오류')\n",
        "\n",
        "\n",
        "  return (title, category, author, date, contents, URL)"
      ]
    },
    {
      "cell_type": "code",
      "source": [
        "# get_blog('https://ilsang2.tistory.com/2661')"
      ],
      "metadata": {
        "id": "Gsg7grAal-qW"
      },
      "execution_count": null,
      "outputs": []
    },
    {
      "cell_type": "markdown",
      "source": [
        "# 네이버 블로그 개별"
      ],
      "metadata": {
        "id": "VXEKPpqtz13o"
      }
    },
    {
      "cell_type": "code",
      "source": [
        "# h = {'User-Agent':'Mozilla/5.0 (Windows NT 10.0; Win64; x64) AppleWebKit/537.36 (KHTML, like Gecko) Chrome/116.0.0.0 Safari/537.36'}\n",
        "URL = 'https://blog.naver.com/uho1104/223218128415'\n",
        "tmp = URL.split('/')\n",
        "res = requests.get(URL)\n",
        "soup = BeautifulSoup(res.text, 'html.parser')\n",
        "\n",
        "response = requests.get(f'https://blog.naver.com/PostView.naver?blogId={tmp[-2]}&logNo={tmp[-1]}')\n",
        "blog = BeautifulSoup(response.text, 'html.parser')\n",
        "\n",
        "title = blog.select_one('div.se-title-text').text.strip()\n",
        "category = blog.select_one('div.blog2_series > a').text\n",
        "author = blog.select_one('span.nick > a').text\n",
        "date = blog.select_one('span.se_publishDate').text\n",
        "contents = blog.select_one('div.se-main-container').text.replace('\\n\\n','').replace('\\n',' ')\n",
        "\n",
        "# contents = (blog.select('div.se-module-text')[1].text.strip(),blog.select('div.se-module-text')[-1].text.strip())\n",
        "\n",
        "print(title)\n",
        "print(category)\n",
        "print(date)\n",
        "print(author)\n",
        "print(contents)"
      ],
      "metadata": {
        "colab": {
          "base_uri": "https://localhost:8080/"
        },
        "id": "EHa5jeY1mDAc",
        "outputId": "5e49f090-66b6-434c-f75a-4efa9bc08a59"
      },
      "execution_count": null,
      "outputs": [
        {
          "output_type": "stream",
          "name": "stdout",
          "text": [
            "[TSLY] 23.09.21\n",
            "TSLY\n",
            "2023. 9. 21. 22:04\n",
            "유호성\n",
            " 금액 : 100만원종목 : TSLY원칙 : 금액 추가 투입 X, Only 배당금 재투자변수 : 없음​나는 호성이다​TSLY 원칙 매수 현황부터 까고 시작한다.​  ​TSLY 종목은 하이리스크 하이리턴 고배당 종목이다.​나도 정확하게 무슨 종목인지 모른다​그럼 왜 투자했냐? 많이 안다고 투자 성공하냐?​공부와 투자가 비례한다면 서울대학교 투자 짱 잘하기학과가 입결 1등일 것 이다.​TSLY 는 테슬라 지수를 추종하면서 커버드콜을 적용한 종목으로 알고 있다.​변동성이 심한 종목에 커버드콜을 적용하면 좋을 것 같은데 생각이 들었다.​커버드콜이 뭔데 너는 자꾸 언급하냐?​커버드콜이란 나도 바보라서 모른거 챗 지피티 한테 물어봐라​변동성이 큰 종목 그리고 횡보장에서 좋다고만 알고있다.​테슬라 본주를 매수하는 것이 아닌 TSLY 를 매수한 이유는 아래의 내용을 참고해라​첫번째 : 매도 스트레스가 없다.항상 내가 매도하고 나면 주가가 미친듯이 올랐다. 손절보다 매도 후 주가 상승이 더 공허하다.​두번째 : 상승 변동성을 배당으로 주는 것 같다.TSLY 는 고배당으로 앞으로 주가 상승력은 미미하겠지만 그 상승력을 배당으로 주는 것 같아 현금흐름 및 주가 매도 타이밍을 안재도 된다는 점을 이점으로 봤다.​[결론]테슬라에 커버드콜을 적용하여 나온 TSLY​TSLY라는 종목을 100만원 매수 후 배당 재투자를 했을 시 총 자산은 얼마가 되는가?에대한 실험을 하기​위해 진행한다.​23년 08월에 시작했으며 실험 기간은 25년12월까지 할 계획이다.​그럼 이상.​ \n"
          ]
        }
      ]
    },
    {
      "cell_type": "markdown",
      "source": [
        "# 기타 블로그 개별"
      ],
      "metadata": {
        "id": "NATXpjOSz_vX"
      }
    },
    {
      "cell_type": "code",
      "source": [
        "URL = 'https://ilsang2.tistory.com/2661'\n",
        "res = requests.get(URL)\n",
        "soup = BeautifulSoup(res.text, 'html.parser')\n",
        "\n",
        "\n",
        "title = soup.select_one('h2,title-article').text\n",
        "category = soup.select_one('p.category').text\n",
        "author = soup.select_one('span.writer').text\n",
        "date = soup.select_one('span.date').text\n",
        "contents = soup.select_one('div.contents_style').text.replace('\\n', '').strip()\n",
        "\n",
        "print(title, category, author, date, contents, URL)"
      ],
      "metadata": {
        "id": "wNIIUI5E0BdX",
        "colab": {
          "base_uri": "https://localhost:8080/"
        },
        "outputId": "f1a0ed5d-d4bb-46f5-8368-f30b8924d28f"
      },
      "execution_count": null,
      "outputs": [
        {
          "output_type": "stream",
          "name": "stdout",
          "text": [
            "[신문스크랩] 2023년 9월 21일 목요일 신문/뉴스/기사/증시/시황/주식/경제/사회/정치/이슈/부동산/개장 전 이슈 재테크/주식투자일기 쿵야085 2023. 9. 21. 21:54 [신문스크랩] 2023년 9월 21일 목요일 신문/뉴스/기사/증시/시황/주식/경제/사회/정치/이슈/부동산/개장 전 이슈📮 9월 21일 목요일 간추린 아침뉴스입니다.  ● 국회가 오늘 본회의를 열고 이재명 더불어민주당 대표에 대한 체포동의안과 한덕수 국무총리 해임건의안을 표결합니다. 이 대표가 \"체포동의안 가결은 정치검찰의 공작 수사에 날개를 달아주는 격\"이라며 사실상 부결을 호소한 가운데 결과에 따라 정국이 중대 분수령을 맞게 될 전망입니다.  ● 윤석열 대통령이 유엔총회 기조연설에서 러시아와 북한의 군사 거래는 한국의 평화를 직접 겨냥한 도발이라면서 좌시하지 않을 것이라고 강조했습니다. 연설 마지막에는 6·25전쟁 때 부산이 자유의 최후 보루로 '한강의 기적'을 이끌었다며 2030년 부산 엑스포에 한 표를 요청했습니다.  ● 지난해 풍자만화 '윤석열차'에 학생만화공모전 금상을 수여했던 한국만화영상진흥원의 내년 예산이 대폭 삭감될 예정입니다. 한국만화영상진흥원 등에 따르면, 진흥원의 내년도 문체부 국고보조금 예산안은 60억원가량으로 올해보다 약 48% 삭감됐습니다.  ● 내년총선을 앞두고 국민의힘이 인재영입 1호로 조정훈 시대전환 의원을 내세웠습니다. 외연 확장이라는 설명인데, 민주당 위성정당으로 국회에 들어온 조 의원 영입에 당 안팎에서 비판이 나왔습니다. 의원 수 한 명뿐인 소수정당 시대전환 대표 조정훈 의원이 국민의힘과 합당하겠다는 뜻을 밝혔습니다.  ● 항명과 상관 명예훼손 혐의로 입건된 박정훈 전 해병대 수사단장이 군검찰에 출석해 7시간에 걸친 조사를 받았습니다. 조사를 마친 뒤 박 전 수사단장의 법률대리인인 김정민 변호사는 \"이른 시일 안에 기소 .여부를 판단하기 위한 수사심의위원회 재소집을 요청할 예정\"이라고 밝혔습니다.  ● 김정은 북한 국무위원장이 최근 러시아를 방문했을 때, 경호차량으로 현대자동차를 이용했던 장면이 포착됐습니다. 호위 차량은 모두 4대가 포착됐는데, 모두 현대 스타리아인 것으로 알려졌습니다.  ● 중국에서는 100만 원이 넘는 비싼 수리비에 화가 나서 아이폰을 던져 박살 낸 유명 배우가 화제가 되고 있습니다. 애플 측은 무단으로 개조했기 때문이라고 하지만, 배우 류진은 아이폰을 개조한 적이 없다며 항의하다가, 결국, 분노를 참지 못하고 이렇게 휴대폰을 내동댕이치는 영상을 공개하게 된 것입니다.  ● 쓱싹쓱싹~~ 붓질을 하면서, \"참 쉽죠?\"라는 말로 그림 그리기의 매력을 알려주는 추억의 밥 아저씨, 기억하시는 분들 많으실텐데요. 미국 화가인 밥 로스가, '그림 그리기의 즐거움'이란 프로그램 1화에서 선보인 작품이 우리돈 131억 원에 경매에 나왔습니다.  ● 미국 중앙은행인 연방준비제도가 기준금리를 현재 5.25에서 5.50%로 유지한다고 밝혔습니다. 지난 6월에 이은 올해 두 번째 금리 동결이지만, 연준은 올해 안에 추가로 금리를 인상하고 내년에도 높은 금리를 계속 유지할 가능성을 시사했습니다.  ● 수원지방검찰청 성남지청은 수백억 원에 이르는 임금과 퇴직금을 체불한 혐의로 위니아전자 대표이사 박 모 씨를 구속했습니다. 박 씨는 지난해 7월부터 여러 달 동안 근로자 4백여 명에게 임금과 퇴직금 약 302억 원을 주지 않은 혐의를 받고 있습니다.  ● 전세사기 특별법의 지원을 받을 수 있는 피해자 708명이 추가로 인정됐습니다. 국토교통부 전세사기피해지원위원회는 어제 피해자 결정 신청 917건 중 708건을 가결했다고 밝혔습니다. 이로써 지난 6월 1일 전세사기 피해지원 특별법 시행 이후 인정된 피해자는 총 6,063명으로 늘었습니다.  ● 2차 가해 논란이 제기된 고 박원순 전 서울시장을 다룬 다큐멘터리 영화의 상영이 금지됐습니다. 서울남부지법 민사합의51부는 박원순 전 서울시장의 죽음을 다룬 다큐멘터리 '첫 변론'의 상영과 판매, 배포를 금지해달라는 성추행 피해자 측의 가처분 신청을 받아들였습니다.  ● 정부 돈을 지원받는 공공기관들의 방만한 경영과 직원들의 기강 해이 실태가 감사원 감사를 통해 낱낱이 드러났습니다. 국가자격시험 위원으로 자신의 가족을 위촉해 수당을 타가는가 하면, 기차표를 예약했다가 취소해 출장비를 챙기기도 했습니다.  ● 다음 달 가수 임영웅 씨의 서울 콘서트가 예정돼 있는데요. 암표 사기가 기승을 부리고 있는데요, SNS를 통해 암표 판매한다고 하고 돈을 받고 먹튀하는 글이 올라오고 있습니다. 가장 비싼 VIP석의 공식 가격은 16만 5천 원이지만, 암표 가격은 한 장에 60만 원, 90만 원에 팔리고 있습니다.  ● 경남은행의 한 부장이 돈을 횡령하다 최근 적발됐는데 그 액수가 3천억 원에 육박하는 것으로 조사됐습니다. 금융권 횡령사고 가운데 가장 큰 규모인데, 직원에 대한 은행의 내부 통제는 전혀 없었습니다. 장기 근무자 직무 분리와 정기적인 자체 감사 등 대책의 실효성을 높여야 합니다.  ● 보건복지부는 지난 15일부터 병원·기관 등에 보관된 의료데이터를 본인 동의 하에 조회·저장하고 원하는 곳에 전송할 수 있는 '건강정보 플랫폼이 운영된다고 밝혔습니다. 기존에는 개인 의료데이터를 질병관리청과 국민건강보험공단, 건강보험심사평가원 등에서만 확인할 수 있었지만, 플랫폼이 가동되면서 전국 의료기관 860곳에서 보유한 진단내역과 약물처방, 수술 등 12종 113개 항목도 확인할 수 있게 됐습니다.  ● 인간을 대상으로 뇌에 컴퓨터 칩을 이식하기 위한 임상시험에 착수한다고 합니다. 테슬라 최고경영자 일론 머스크가 설립한 뇌신경과학 스타트업 업체 '뉴럴링크'가 최근 공식 블로그에 올린 공지문에 따르면, 미 FDA 등의 승인을 받아 인간을 대상으로 하는 이른바 '뇌 임플란트' 임상시험에 착수한다며 루게릭병이나 사고로 신체 일부가 마비된 환자를 임상 참가자로 모집한다는 내용입니다. ------------------------------------- ★★09월 21일 주요신문 헤드라인★★ ​ 《경  제》 ​ ☞코로나 추경·유가 상승에 공공부문 96조원 적자.. 중앙정부는 53년래 최대폭 적자...공공부문수지 -95.8조원..16년래 최대폭 적자...코로나 추경·에너지 공기업 적자 영향...비금융공기업 -64조원 적자낼 때...'이자이익' 금융공기업은 7.9조원 흑자...GDP 대비 공공재정 비중 51.1% 역대 최대 ​ ☞밥상물가 더 오르나, 유가 급등에 생산자물가 16개월래 최대폭 상승...소비자물가 선행지표 생산자물가 전월比 0.9% 상승...2개월 연속 오름세, 16개월래 최대폭 올라...국제유가 연중 최고치 경신, 물가 상승압력...'물가안정' 한국은행도 인상 고민 깊어질 듯 ​ ☞\"지하철 편도가 택시값\"…신분당선 8200원 시대...내달 7일부터 신분당선 요금 최대 450원 ↑...광교역~신사역 편도 이용할 경우 4100원...\"지옥철 출퇴근도 힘든데 8000원을 내나\" ​ ☞'韓 전기차, 또 타격 입나'…프랑스판 IRA 발표에 정부 \"추가 협의\"...해상운송계수 등 탄소배출량 초안 유지…전기차 수출 타격 예상 ​ ☞한국인 명의 해외 코인계좌에 131조원…‘30대 이하’ 8조 보유...올해부터 해외 금융계좌 신고대상에 ‘가상자산’ 포함...법인 120조원, 개인 10조원 코인 보유 신고 ​ 《금  융》 ​ ☞글로벌 부채 307조달러…금리인상에 사상 최대치...총 부채비율은 336%…6개월새 2%포인트↑...금리 상승에 차입비용 급증…80%가 선진국에서 ​ ☞원·엔 환율 연저점 '내리막'…\"지금이 바닥\" 엔화예금에 '시선집중'...4거래일 연속 800원대 그쳐...4대 은행 잔액 1조 엔 '눈앞' ​ ☞에코프로 이후 차기 황제주 빈자리는 누가?…삼바·LG화학 ‘주목’...에코프로 이후 주가 100만원 넘는 기업 전무...삼성바이오로직스, 평균 목표주가 107만원...삼성SDI·LG화학 상승 가능성 충분 평가도 ​ ☞'반토막' 난 CFD 시장… 증권가 '눈치싸움' 계속되는 이유는?...메리츠·유안타·교보·유진 이어 하이도 CFD 재개… SK만 서비스 종료...CFD 잔고 '반토막'… 대형사, 고액자산가 수요 고려해 '관망' ​ ☞“이래도 괜찮나”…‘하드머니’ 겁없이 빌리는 청년들, 저축銀 연체율 7%...저축은행 신용대출 184만명 돌파...20대 청년·60대 노년서 연체율 7% 육박 ​ 《기  업》 ​ ☞'정용진의 남자'도 물러났다…신세계 계열사 대표 9명 물갈이...신세계그룹, 9월 조기 인사 단행…계열사 대표 40% 교체...이마트·백화점 대표 교체…한채양 이마트 대표·박주형 신세계 대표 낙점...6개 채널 묶은 리테일 클러스터 신설…대표이사 인원 6명 줄어 ​ ☞삼성 \"인텔 따라올테면 따라와봐\"…2나노 반도체 '속도전'...2025년 2나노 도입 이후...2027년에는 1.4나노 공정 양산...평택·美 테일러 생산 능력 확장...이재용도 빅 테크 CEO 만나 설득 ​ ☞\"노 재팬 끝났다\"…토요타, 韓 시장 '신차 공습'...전기차 수요 둔화 틈타 하이브리드차로 시장 공략...신호탄 라브 4부터 크라운·하이랜더·알파드 출시...11월 5세대 완전변경 프리우스 국내 출시 예정 ​ ☞“퇴직연금 1250억 드립니다”…정부, 연금 프로젝트 추진...고용부·금융위·금감원, 퇴직연금 활성화 추진...퇴직연금 알리고, 미지급 돌려주고, 가입 촉진...연말까지 근로자퇴직급여보장법 시행령 개정...정부 “든든한 노후 안전망 되도록 시장과 소통” ​ ☞'美 반도체규제'에 한방 먹인 中, 이번엔 부품 국산화 속도...'中 최대 메모리社' YMTC, 자국업체와 반도체장비 부품 국산화 논의...램리서치 등 美 회사, 유지·보수 서비스 중단…교체부품 부족 우려...'부품 국산화 실패하면 YMTC 존립 위험'…中정부, 70억달러 지원 ​ 《부 동 산》 ​ ☞사라지는 6억 이하 아파트…거래비중 역대 최저...1~8월 6억 이하 거래 비중 25.6%에 그쳐...15억원 초과 비중은 역대 최고 17.5% ​ ☞불법하도급시 발주자·원청도 처벌…최대 5배 징벌적 손해배상...의심 건설현장 덮쳤더니 35%서 불법하도급 적발...무자격자 하도급이 66%…국토부, 100일 집중단속 결과 발표 ​ ☞4억대 하남교산 공급된다…뉴홈 3차 사전청약...1·2차보다 증가물량 수도권만 인천계양·구리갈매역세권 등...3기신도시 최고인기 하남교산‘ 시세70%’ 나눔형 공급 눈길...마곡 토지임대료 월 70만원 논란 ​ ☞다음주 부동산대책 나온다…PF지원 확대·생숙완화 등 커지는 '기대감'...비아파트 공급 규제 완화 등도 포함될 전망...생숙, 이행강제금 소급 적용 배제 방안 등 거론 ​ ☞청년·신혼부부 매입임대주택 3차 입주자 모집… 총 3546가구 공급...21일부터 모집 시작...최장 거주기간 6년→10년으로 연장...올해 총 공급량 목표치는 줄어 ​ 《사  회》 ​ ☞수능 문제 판 교사 88% 수도권 고교 근무…20%는 자사고·특목고...교육부, 고교 교사 24명 적발…4명 고소·22명 수사의뢰...5억 가까이 받은 교사도…감사 따라 추가 적발 가능성 ​ ☞나 혹시 땅 부자?…제주서는 연 2천명씩 몰랐던 조상 땅 찾는다...조상 땅 찾기 서비스…땅값 상승에 관심 커져...올해는 8월까지 2800여명 신청, 1300여명 성공 ​ ☞군사우편으로 마약 반입, 미군기지에 뿌린 주한미군 등 검거...평택경찰서 합성대마 유통·판매 일당 22명 검거...주한미군 A씨 군사우편으로 합성대마 밀반입...필리핀 국적 B씨와 한국인 C씨 등 통해 유통 ​ ☞서울-지방 의대 수시경쟁률 격차도 3년새 최대… \"지역인재선발 원인\"...경쟁률 격차, 2022학년도 21.48→2024학년도 29.42...\"지역인재 40%선발 의무로 서울 학생 사실상 지원 못하는 탓\"...경대 의대 경쟁률 전국 9번째로 높아, 치대는 전국 1위 ​ ☞자동차세 기준 '배기량→가격' 바뀌나…정부 개편작업 착수...이산화탄소 배출 등도 고려해 내년 개편안 마련...\"전기차는 보급 추이 따라 개편 시행 시기 늦출 수도\" ​ 《국  제》 ​ ☞대만·반도체·광물 대응.. 中 전방위 압박하는 美...중국은 미국의 대중국 견제 언급 나온 날 러시아와 밀착 강화...다만 이와 별도로 고위급 소통은 이어가는 美中 ​ ☞\"사우디를 동맹국으로 격상\"…대선 승리 위해 확 바뀐 바이든...\"상대국 공격받으면 군사적 지원 약속\"...사우디와 이란 핵무기 문제 논의 ​ ☞미국 등 서방, 우크라戰 장기화 우려…\"7년 더 지속될 수 있어\"...우크라 반격 더디면서 점차 지원 반대 여론 커져...바이든, 유엔총회서 단결 촉구…장기적인 전략 필요한 시점 ​ ☞연이어 사라지는 中 핵심 참모들…CNN \"숙청 계속될 것“...\"고위직인 리샹푸·친강 부장 잠적에 중국 이미지도 타격\"...\"미·중 군사대화 재개에 긍정적 영향\" 전망도 ​ ☞\"100달러 오일 쇼크만으론 금리 인상 부채질 쉽지 않아\"...블룸버그 이코노믹스, 인플레 영향 시뮬레이션...\"2030년 안에 인도가 중국 제치고 최대 원유 수요국\" -------------------------------------------------------------- 2023년 9월 21일 신문을 통해 알게 된 것들 1. 의사들은 환자가 환자가 다른 병원에서 받은 진료, 처방 내용을 알 수 있을까? → 알 수 없다. 상담 내용이나 질병 등에 대한 정보가 의료기관에 공유되지 않는다. 다만 이전 병원에서 받았던 처방약이 복용기간 중이라면 중복 투약 예방을 위해 알 수 있다.(문화) 2. 합의금 노린 성폭력 피해 상습신고 29건... 30대女 무고로 피소 → 31세, 26세 여성 2명이 서로 역할을 바꿔가며 채팅앱 통해 만난 남성에 성접촉 유도 후 신고. 지난해 8월부터 올해 6월까지 약 10개월간 합의금 명목으로 뜯어낸 돈만 4억 5755만원...(매경) 3. 한일 경제성장률 25년만에 역전 가능성 → OECD, 올해 한국 경제성장률 1.5% 전망. 반면 일본은 6월(1.3%)보다 0.5%포인트 높아진 1.8%로 전망. 이대로 진행된다면 25년만에 한일 경제성장률 역전. 한국 일본보다 성장률이 낮았던 것은 1967년 이후 65년간 1980년 오일쇼크와 1998년 외환위기 때 두 차례뿐이었다.(헤럴드경제) 4. 청년 첫 일자리 대부분은 30인 미만 중소기업 → 청년들의 첫 일자리가 ‘500인 이상 사업장’인 비율은 7.7%인 반면, 63.9%가 ‘30인 미만 사업장’에서 사회 생활 시작. 2022년 청소년정책연구원 자료.(문화) 5. ‘뇌에 칩 심으실 분’... 머스크의 ‘뉴럴링크’社, 임상 참가자 모집 → 사지 마비 환자를 위한 '뇌 속 칩 이식'의 임상시험 대상자 모집, FDA 승인받아. 칩 심은 사람이 생각하는 것만으로 컴퓨터 커서나 키보드를 제어할 수 있도록 하는 것이 목표라고.(매경) 6. 전기차 100만㎞ 보증, KG 파격마케팅 → KG모빌리티 신형 전기차 토레스 EVX 20일 출시. 배터리 보증기간 10년·100만㎞.(아시아경제) 7. 잠실구장 재건축은 좋은데... 6년간 야구는 어디서 하나요 → 잠실 대체구장 논란. 서울시 돔구장으로 새로 짓는데 공사 기간만 6년. 잠실을 홈구장으로 쓰는 두산 베어스·LG 트윈스는 ‘셋방살이’ 해야 하는 상황.(서울) 8. 제24회 서울올림픽 → 흔히 88올림픽... 올해로 개최 35주년. 세계 속 한국 위상 정립한 계기. 직전 2개 대회의 번쪽 올림픽 넘어 160개국에서 2만여명의 선수·임원 참가. 한국은 종합성적 4위를 기록, 스포츠 강국으로 부상했다.(서울) 9. 자동차세 기준 바꾼다... 배기량 대신 차량가격 유력 → 행안부, 개편 작업 착수. 그동안 가격은 비싸지만 배기량이 적은 수입 자동차가 세 부담이 낮아 국산차와 형평성 논란. 엔진이 없어 배기량을 따질 수 없는 전기차 등장도 개편 계기.(매경) 10. ‘앙코르’는 우리말로 ‘재청’ → 프랑스말 ‘앙코르(encore)’에서 온 외래어. 영어도 이 말을 같이 쓴다. 흔히 프랑스어도 영어도 아닌 ‘앵콜’이라고 잘못 쓰이고 있다. ‘앵콜’은 국립국어원 사전에 올라와 있지 않다.(뉴스1) -------------------------------------------------------------- 매경이 전하는 세상의 지식 (매-세-지, 9월21일) 1. 내년부터 개인투자자들도 탄소배출권에 투자할 수 있는 길이 열림. 배출권을 기초자산으로 삼은 상장지수증권(ETN)과 상장지수펀드(ETF)를 통한 간접투자 모두 가능해짐. 부는 20일 서울정부청사에서 제18차 배출권 할당위원회를 열고 이같은 내용의 ‘배출권 거래 시장 활성화 방안’을 확정함. 탄소배출권 거래제는 기업이 배출하는 탄소에 가격을 매겨 배출권이 남는 기업은 시장에서 팔고, 반대로 모자란 기업은 사도록 만든 시스템임. 2. 신시장 개척을 목표로 네이버가 투자한 인도 스타트업 8곳의 기업가치 평가금액이 6조원을 넘어선 것으로 확인됨. 이는 네이버가 아시아에서 빠르게 성장하고 있는 인도에 본격적으로 진출할 수 있는 기반을 마련했다는 의미로 주목됨. 네이버가 지난 2021년 앵커투자자로 참여한 인도 특화 펀드 ‘파라마크케이비1호’의 인도 스타트업 8곳 전체 기업가치는 지난 8월 기준으로 6조3942억원에 달함. 3. 방문규 산업통상자원부 장관과 김동철 한국전력 사장이 20일 취임함. 방 장관은 취임 첫 날부터 원전산업 현장을 돌며 업계 의견을 수렴했고, 김 사장은 아랍에미리트(UAE)에 이은 ‘제2의 원전 수출’을 강조함. 탈원전 폐기를 골자로 한 정부의 에너지정책에도 한층 힘이 실릴 전망됨. 취임한 방문규 산업통상자원부 장관과 김동철 한국전력 사장이 직면한 최대 현안으로는 4분기 전기요금이 꼽힘. 4. 신세계그룹이 대표이사 25명 가운데 9명을 교체하는 대대적인 ‘물갈이 인사’를 단행함. 세계그룹은 25일 그룹 핵심 계열사인 이마트와 신세계 대표이사를 동시에 교체하는 고강도 인적 쇄신에 나섬. 이마트 신임 대표에는 한채양 조선호텔앤리조트 대표를 임명하고, 신세계 대표는 박주형 신세계센트럴시티 대표가 겸직하도록 함. 5. 윤석열 정부와 전임 문재인 정부가 역대 경제·안보 성과를 놓고 정면 충돌하며 정권간 신구(新舊) 갈등이 폭발함. 최근 홍범도 흉상 이전 문제로 부각됐던 신구 갈등은 문 정부 때 국가 통계가 조작됐다는 감사원 감사 결과로 불이 붙었음. 이어 역대 보수·진보 정권별 성적표를 놓고 잘잘못을 따지는 논쟁으로 비화하며 파장이 커지고 있음. ------------------------------------------------------------ 23년 9월 21일 부동산 주요뉴스 'GTX 외곽' 동탄 주상복합 20억…'GTX 중심' 서울역 넘어섰다  https://n.news.naver.com/mnews/article/421/0007063779?sid=101  '부모 찬스' 미성년자 주택 693채 싹쓸이…9세 이하 아동도 190억원치 사들였다  https://n.news.naver.com/mnews/article/421/0007063771?sid=101  건설현장 뿌리 깊은 ‘불법하도급’…전방위 처벌 강화가 답일까  https://n.news.naver.com/mnews/article/119/0002751422?sid=101  부동산 전자계약 서비스 연 10억원 투입에도 이용률 '4%'  https://n.news.naver.com/mnews/article/417/0000950208?sid=101  \"대세 상승은 아직\" 주택공급 대책은 '시장정상화'에 방점  https://n.news.naver.com/mnews/article/031/0000774539?sid=101  삼성물산·현대건설, 지난해 매출 늘고 시가총액 줄었다  https://n.news.naver.com/mnews/article/417/0000950203?sid=101  “월세 40만원인데 관리비가 50만원?” .. 벌금 '최대 500만원'  https://n.news.naver.com/mnews/article/014/0005076060?sid=101  --------------------------------------------- <오늘 개장전 꼭 알아야할 5가지_9/21 Bloomberg> 1) 연준 추가인상 의지 연준 위원들은 만장일치로 연방기금금리 목표범위를 5.25~5.5%로 동결하고, 연내 한번 더 금리를 올린 후 오랫동안 높게 유지할 방침임을 시사. 점도표에서 연준위원 12명은 올해 추가 1차례 인상을 선호했고, 7명은 동결을 전망. 파월 연준의장은 연준위원들이 “적절할 경우 금리를 더 올릴 준비가 되어 있다”며, “인플레이션이 우리의 목표를 향해 지속적으로 하락하고 있다는 확신이 들 때까지 정책을 제약적 수준에 묶어둘 생각”이라고 밝혔음 2) 연준 평가 ‘새로운 채권왕’으로 불리는 제프리 군드라흐는 연준이 금리를 동결하기로 한 결정은 최고의 조치 중 하나라고 환영. 현재 지표가 극도로 신뢰하기 어려운 상태인데다 경제 내부적으로 많은 역류가 흐르고 있다고 지적. 무엇보다 유가로 인해 금리 인상 가능성이 더 높아졌다고 진단. 그러나 향후 4~6개월 안에 경제가 빠르게 둔화될 수 있어 내년 상반기에 금리가 인하될 가능성이 있다며, 단기적으로 미국채가 매력적이라고 주장 3) BOE 동결? 골드만삭스와 노무라는 영국의 정책금리가 아마도 이미 정점에 이르렀을 가능성이 있다고 진단. 영국의 8월 소비자물가지수(CPI) 전년비 상승률이 18개월래 최저치인 6.7%로 후퇴한 것으로 나타나자 골드만 이코노미스트들은 “상당한 하방 서프라이즈”라며, 이번 주 영란은행(BOE)이 금리를 5.25%에 동결할 것으로 전망. 투자자들은 추가 긴축 베팅을 공격적으로 거둬들였고 파운드는 장중 한때 1.23달러까지 밀리며 5월래 저점을 경신 4) 중국 정책 강화 이강 전 중국인민은행(PBOC) 총재는 중국 경제가 여전히 “회복 단계”에 있다며, 올해 정부의 약 5% 성장 목표를 달성하려면 정책 지원을 “적절하게” 강화해야 한다고 주장. 그는 “세계 다른 나라들을 보면 팬데믹 이후 소비가 기본적으로 회복되는데 약 1년이 걸렸다. 중국의 경우 이제 겨우 반년이 지났다”고 지적. 중국 대기업들은 외국인 투자자들의 엑소더스에 무너진 투심을 되살리기 위해 올해 1.5조 위안에 달하는 기록적 배당금 지급을 계획하고 있음 5) 미국 소비 지출 견조 뱅크 오브 아메리카(BofA)의 알래스테어 보스윅은 견조한 소비 지출로 인해 미국 경제가 침체에 빠질 가능성이 점점 낮아지고 있다고 진단. 그는 “소비자가 전년 대비 4% 가량 지출을 늘리고 있는 상황에서 미국 경기 침체를 예상하기 어렵다”고 밝힘. 미국 소비자들이 여전히 재화와 여행에 돈을 쓰고 있고 소비자들의 자산 퀄리티가 여전히 “매우 튼튼하다”고 지적 ---------------------------------------------- Powell 연준 의장 기자회견 주요 내용 1. 연준 구성원들은 연내 추가 인상, 동결로 의견이 나뉘어 있으나 정해진 것은 없음. 향후 데이터를 확인하면서 정책 결정할 것 2. 실질 기준금리는 (+)이며 제약적인 수준이지만 경기 펀더멘털이 생각보다 강력한 점이 2024년 점도표 상향 조정 이유 3. 연내 추가 인상이 있더라도 경제에 큰 부담은 아님. 여전히 경제의 연착륙은 가능하다고 생각 4. 충분히 제약적인 수준 기준금리를 특정하는 것은 불가능 5. 경제의 연착륙을 정책 운영의 우선순위로 특정한 적은 없음 6. 언젠가 기준금리를 인하할 시기가 오겠지만 언제가 될 지는 알 수 없음 ----------------------------------------------- 9월 21일 파월 연설 - 연준은 물가안정과 최대고용을 위해서 최선을 다하고있다 - 물가안정은 연준이 가장 중요하게 생각하는 임무중 하나 - 작년대비 금리를 5.5%까지 매우 급격하고 빠르게 올렸다 - 오늘은 금리를 동결을했습니다 - 물가안정없이 강력한 고용시장을 가질수 없다 - 데이터와 리스크 분석해서 방햐성을 정할것 - 연준은 원하는 방향성을 가고 있으며 많은 것을 이루었지만 아직 완전한 효과는 없다 - 신중하게 진행할것입니다. - 소비자 지출이 매우 견고 - 현재 금리 인상은 기업들 기업 투자에 대한 부담을 주고 있다 - 노동 시장은 여전히 타이트 - 실업률이 오르긴 했지만 3.8%으로 여전히 매우 낮다 - 노동력은 완화되고 있으며 더나은 균형을 유지하고 있다 - 임금의 상승률이 어느정도 완화될 조짐을 보였습니다.  - 노동시장은 재균형을 이룰것입니다 - 인플레이션이 우리의 목표치인 2%를 크게 웃돌았으며 이느 매우 경각심을 가지게 했다 - 24년말 금리 중앙값 4.6%에서 5.1% - 25년말 금리중앙값은 3.4%에서 3.9% - 26년만 금리 중앙값은 2.9% - 인플레이션은 어느정도 완화되었으며 기대치도 올랐지만 인플레이션을 2%대의 연준의 목표까지 낮추기 위해서는 갈길이 멀다고 생각 - 모두 아시다시피 금리를 매우 높은 수준으로 유지하고있다 - 경제는 역풍을 맞고 있습니다.  - 연준은 인플레이션이 확실하게 하락하는 증거와 데이터가 보조 뒷받침될때까지 금리를 제한적인 수준에 유지할것입니다 ★★★ 올해 한번정도 금리를 더 인상할수 있습니다. - 근원 PCE가 3.9%상승했다고 추정 - 연준은 전망과 예측과 계획보다 데이터에 의존하며 적절히 조정할것 - 금리는 현재 우리가 얼마나 먼길을 얼마나 빠르게 왔느지를 생각하며 금리를 동결하기로 결정 ★★★ 필요하다면 금리 추가 인상을 할 준비가 되어있습니다 - 인플레이션이 2%대로 낮아질떄까지 금리를 제한적인 수준으로 유지 ★★★ 인플레이션을 낮추는데는 노동 조건이 어느정도 완화가 필요하다 그래서 연준은 할수있는 모든것을 할것입니다 => 앞으로 중요한건 노동조건과 너무낮은 실업률, 근원PCE(소비조건) Q: 정책지연 경제역풍 정부의 셧다운 우려에 대해서는? - 분석에서 이번 금리를 동결하는게 맞다고 결론 - 2번 남은 회의에서 한번은 올려야 한다는것이 연준의 대다수 의견 - 타협하기 위해서는 더 많은 증거와 데이터가 필요 - 실질 금리는 어느정도 이상태를 유지해야할것 - 경제가 우리가 모두가 예상했던것보다 너무 강력, 소비력도 매우 높았다 - 인플레이션 목표를 향한 진전이 있었다 Q: 금리한번더? 아니면 동결? 그것에 대한 고민의 의미? - 올해 7명은 NO HIKE, 2명은 ONE MORE HIKE - 성급하게 결론을 내려서는 안된다고 생각 - 데이터에 따라서 얼마든지 바뀔수있다 - 지난년도부터 데이터를 통해서 많은 것을 배웠다 - 우리는 실수로부터 배웠다 - 매우 조심스럽게 진행할것이다 ★ 우리가 얼마나 멀리왔고 얼마나 많은 금리인상을 했는지에 대해서 정책은 어느정도 딜레이가 있다고 생각 ★ 그래도 우리가 가야할 곳에 매우 근접했다고 생각 ★ 한번더 금리를 인상한다고 해도 그거에 크게 의미를 부여하지 않을것이다 - 금리로 무엇인가를 더할수있지만 목표에 근접할수록 우리는 신중하게 움직일수 있는 능력을 갖게됩니다 - 경제활동이 강력하게 유지된다면 금리를 통해 더많은 조치를 취할수 있습니다. - 모두의 예상보다 미국 경제는 매우 탄력적이고 강력했다 - 수요와 공급의 밸런스가 맞아가면서 인플레이션에 도움이 되고있다 - 고용의 밸런스도 어느정도 완화 - 실업률이 크게 증가하지 않을것으로보지만 그것은 확정이 아니며 보장된것도 아니다 Q: 소프트랜딩 베이스라인인가? - 연착륙 기본값이 아니다, 하지만 가능할수 있다고 생각 Q: 제한적인이 어디이고 어떻게인가? - 연준은 제한적인 수준의 금리를 유지할것 - 판데믹으로인한 수요와 공급의 문제 노동의 문제, 주택시장문제 이러한 문제들에 우리 정책이 적용되면서 해결 완화 되면서 우리의 확신을 얻을수 있다면 그것이 제한적인 수준 ★ 어떠한 방향성이 나오는지 일단은 금리를 더 올리지 않고 동결시키기로 했습니다 (데이터를 지켜보겠다) - 현재 우리는 금리가 어디에 머물러야 할지에 대해서 조심스럽게 상황을 살피고 있습니다 - 우리는 제한적인 수준의 금리가 어디인지에 대해서 파악하고 도달하려고노력할것이다  - 남은 2번의 FOMC에서 우리가 내리는 결정은 앞으로 나오는 데이터에 따라서 달라질것이다 Q: 내년 첫분기에는 금리 인하가 없다고 말했던 것은? - 타이밍이나 시그널에 대해서 주고 싶지 않습니다  - 가능할수도 있습니다  - 모든것은 데이터를 통해서 결정할것입니다 - 확실한 것은 지금 당장 금리 인하 시기에 대해서 신호 힌트를 줄 생각이 전혀 없습니다 - 현재 불확실성이 너무 많습니다 - 만약 인하를 결정하게 된다면 그 일부는 인플레이션이 하락하고 있고 실질 금리가 상승하는것을 통해서 알수있다 Q: GDP가 현재 뜨거운데 더 매우 높게 나온다면? - 예측보다 소비자 지출이 너무 강력하다 - 인플레이션 하락 없이 GDP가 계속해서 상승하게 된다면, GDP 단일로 볼수 없고 열기가 실제 인플레이션을 2%대로 되돌리는데 위협이 될수있다는점 ★★★ 장기금리, 현재 원유문제 정부 셧다운 문제 우려스럽습니다  - 에너지 가격의 문제가 매우 우려스럽습니다 - 단기 변동성이랑 근원 인플레이션에 대해서 주시해야하며 높은 에너지가격이 지속된다면 인플레이션에 영향을 미칠수밖에 없다 - 너무나도 불확실성이 높습니다 - 이러한 문제들이 얼마나 유지되며 얼마나 길게 진행될지를 봐야합니다 https://ilsang2.tistory.com/2661\n"
          ]
        }
      ]
    },
    {
      "cell_type": "markdown",
      "source": [
        "# get_blog_list 함수"
      ],
      "metadata": {
        "id": "ya_Ufl5cz7Qb"
      }
    },
    {
      "cell_type": "code",
      "source": [
        "import requests\n",
        "import pandas as pd\n",
        "from bs4 import BeautifulSoup\n",
        "from tqdm.notebook import tqdm as tqdm\n",
        "\n",
        "def get_blog_list(keyword, startdate, enddate) :\n",
        "  start = 1\n",
        "  URL = 'https://s.search.naver.com/p/blog/search.naver?where=blog&sm=tab_pge&api_type=1&query={0}&rev=44&start={1}&dup_remove=1&post_blogurl=&post_blogurl_without=&nso=so%3Add%2Cp%3Afrom{2}to{3}&nlu_query=%7B%22r_category%22%3A%2233+25%22%7D&dkey=0&source_query=&nx_search_query={0}&spq=0&_callback=viewMoreContents'.format(keyword, start, startdate, enddate)\n",
        "  h = {'User-Agent':'Mozilla/5.0 (Macintosh; Intel Mac OS X 10_15_7) AppleWebKit/537.36 (KHTML, like Gecko) Chrome/116.0.0.0 Safari/537.36', 'Referer' : 'https://search.naver.com/search.naver?where=news&query=%ED%85%8C%EC%8A%AC%EB%9D%BC&sm=tab_opt&sort=2&photo=0&field=0&pd=0&ds=&de=&docid=&related=0&mynews=0&office_type=0&office_section_code=0&news_office_checked=&nso=so%3Ar%2Cp%3Aall&is_sug_officeid=0&office_category=0&service_area=0', 'cookie':'NNB=KXDWSALR5HLWE; ASID=afc28e77000001821bee653700000062; _ga=GA1.2.852833469.1658355403; _ga_7VKFYR6RV1=GS1.1.1663030713.12.1.1663030726.47.0.0; NFS=2; m_loc=8e6c6458de8107ce6b301a2fdcaac47c270f10d32641f9fdfed1b5b1faac3e2c; NV_WETR_LAST_ACCESS_RGN_M=\"MDIxMzU1NTA=\"; NV_WETR_LOCATION_RGN_M=\"MDIxMzU1NTA=\"; recent_card_list=2936,3397,2717,3977; nx_ssl=2; nid_inf=-1453188587; NID_AUT=3O547E30xwR+LSPJWBh1H0BeJZ8z7w5GcYoFiB1oouz7XPFXgUYyapi0YaIPu/ed; NID_JKL=G/s4QbAdJVVTz69y/dBkR/9g00VQhbM8nxg71ZvVgyE=; NID_SES=AAABoKkgglCWz6aloghoOZ3uiyN2Gx8Ya6M3siOaeQCtWMn7TXgrPkganW/YVI931ONSrWmpB6IIM3p/mCMfueM9ekkTAuzM2mj8PfOoUbrV7BrzerfHGStcNmmb0QkiSuOy8AH1MwneQ7sJCTZBpPEfIbn9HUQ6S62sMy5oLJ0xqXedXxwQ4TsBa4+6Z6FWpVTIfmTzWMFt/M4pfpxYEbYAVBsfhLIsNPCjHLCrkoDdQPeUS949dDM9Xf8zpucBTRJrB6GwKaQDSeVWs+OgXngp1iusiktNnHZ7hEWDO5gyZCXkA7jV9njHKBDw6b58JD2La4eTPDBjq6xzUHaCAt+L7rGlpQ5FWHh1UF8XcyHGLdi2zQRHHSs9giWGIdbJ61akjlPZM/N8vL9zJZcw8qFmko0EY8RNmF1aUNE7qEcfaEyQNu/tlmIsUeYl5kPbZgL8fUiKMssPunn4ciffRsstEIcRbvtkVUdDKvr5QdQdf5J0o167t5vXBvctqzggQXUYOOBv8Cb9G9W5NcGibg9J3OCd7JMZTNGPV6gFAtga/WJL; page_uid=idY26sprvTVssudbzPwssssssI4-486433; _naver_usersession_=SXc2E3wZ6W9q/0SVHj+cMQ=='}\n",
        "  res = requests.get(URL, headers = h)\n",
        "  total_page = int(res.text[28:].split('\\\"')[0])//30+1\n",
        "\n",
        "  # total_page = 10\n",
        "\n",
        "  li = []\n",
        "\n",
        "  for page in tqdm(range(1, total_page+1), desc=\"get_blog_list\") :\n",
        "    start = 30*(page-1)+1\n",
        "    URL = 'https://s.search.naver.com/p/blog/search.naver?where=blog&sm=tab_pge&api_type=1&query={0}&rev=44&start={1}&dup_remove=1&post_blogurl=&post_blogurl_without=&nso=so%3Add%2Cp%3Afrom{2}to{3}&nlu_query=%7B%22r_category%22%3A%2233+25%22%7D&dkey=0&source_query=&nx_search_query={0}&spq=0&_callback=viewMoreContents'.format(keyword, start, startdate, enddate)\n",
        "    res = requests.get(URL, headers = h)\n",
        "    soup = BeautifulSoup(res.text.replace(\"\\\\\",\"\"), \"html.parser\")\n",
        "    for item in soup.select('li div.total_area > a') :\n",
        "      try :\n",
        "        li.append(get_blog(item['href']))\n",
        "      except :\n",
        "        print('오류', item['href'])\n",
        "\n",
        "  return pd.DataFrame(li, columns=['title','category','nick','date','content', 'url'])"
      ],
      "metadata": {
        "id": "hI4ILJRtoDeO"
      },
      "execution_count": null,
      "outputs": []
    },
    {
      "cell_type": "code",
      "source": [
        "get_blog_list('\"청년 희망디딤돌 통장사업\" 참가 | 후기 | 리뷰 -모집 -소개', '20230921', '20230921')\n"
      ],
      "metadata": {
        "id": "DEMSub8v5pNr",
        "colab": {
          "base_uri": "https://localhost:8080/",
          "height": 186
        },
        "outputId": "a90b23fb-7ccd-4f30-89d0-dce32f63de95"
      },
      "execution_count": null,
      "outputs": [
        {
          "output_type": "error",
          "ename": "NameError",
          "evalue": "ignored",
          "traceback": [
            "\u001b[0;31m---------------------------------------------------------------------------\u001b[0m",
            "\u001b[0;31mNameError\u001b[0m                                 Traceback (most recent call last)",
            "\u001b[0;32m<ipython-input-4-9311686829c8>\u001b[0m in \u001b[0;36m<cell line: 1>\u001b[0;34m()\u001b[0m\n\u001b[0;32m----> 1\u001b[0;31m \u001b[0mget_blog_list\u001b[0m\u001b[0;34m(\u001b[0m\u001b[0;34m'청년 희망디딤돌 통장사업\" 참가 | 후기 | 리뷰 -모집 -소개'\u001b[0m\u001b[0;34m,\u001b[0m \u001b[0;34m'20230921'\u001b[0m\u001b[0;34m,\u001b[0m \u001b[0;34m'20230921'\u001b[0m\u001b[0;34m)\u001b[0m\u001b[0;34m\u001b[0m\u001b[0;34m\u001b[0m\u001b[0m\n\u001b[0m",
            "\u001b[0;31mNameError\u001b[0m: name 'get_blog_list' is not defined"
          ]
        }
      ]
    },
    {
      "cell_type": "code",
      "source": [
        "import requests\n",
        "from bs4 import BeautifulSoup\n",
        "import pandas as pd\n",
        "from tqdm.notebook import tqdm as tqdm\n",
        "import re\n",
        "import multiprocessing as mp\n",
        "from joblib import Parallel, delayed\n",
        "import csv\n",
        "\n",
        "\n",
        "\n",
        "def get_blog(URL) :   # 블로그에서 내용 긁어오는 함수\n",
        "\n",
        "  tmp = URL.split('/')\n",
        "  res = requests.get(URL)\n",
        "  soup = BeautifulSoup(res.text, 'html.parser')\n",
        "\n",
        "  response = requests.get(f'https://blog.naver.com/PostView.naver?blogId={tmp[-2]}&logNo={tmp[-1]}')\n",
        "  blog = BeautifulSoup(response.text, 'html.parser')\n",
        "\n",
        "  if blog.select_one('div.se-title-text') :   # 네이버1\n",
        "    title = blog.select_one('div.se-title-text').text.strip()\n",
        "    category = blog.select_one('div.blog2_series > a').text\n",
        "    author = blog.select_one('span.nick > a').text\n",
        "    date = blog.select_one('span.se_publishDate').text\n",
        "    contents = blog.select_one('div.se-main-container').text.replace('\\n',' ')\n",
        "\n",
        "  elif blog.select_one('div.se_component_wrap') :   # 네이버2\n",
        "    title = blog.select_one('h3.se_textarea').text.strip()\n",
        "    category = blog.select_one('div.blog2_series > a').text\n",
        "    author = blog.select_one('span.nick > a').text\n",
        "    date = blog.select_one('span.se_publishDate').text\n",
        "    contents = blog.select('div.se_component_wrap')[1].text.strip().replace('\\n','')\n",
        "\n",
        "  elif soup.select_one('div.hgroup > h1') :  # 기타1\n",
        "    title = soup.select_one('div.hgroup > h1').text\n",
        "    category = soup.select_one('div.hgroup > div.category').text\n",
        "    author = soup.select_one('span.author').text\n",
        "    date = soup.select_one('span.date').text.strip()\n",
        "    contents = soup.select_one('div.contents_style').text.replace('\\n','').strip()\n",
        "\n",
        "  elif soup.select('div.titlebox > h2 > a') :   # 기타 2\n",
        "    title = soup.select('div.titlebox > h2 > a')[1].text\n",
        "    category = soup.select_one('a.category').text\n",
        "    author = soup.select_one('div.owner > span').text\n",
        "    date = re.search('[0-9]{4}-.+:[0-9]{2}', soup.select_one('div.date > div.fr > h4').text).group()\n",
        "    contents = soup.select_one('div.article').text.replace('\\n', '').strip()\n",
        "\n",
        "  elif soup.select_one('div.titleWrap > h2') :  # 기타 3\n",
        "    title = soup.select_one('div.titleWrap > h2').text\n",
        "    category = soup.select_one('div.another_category > h4 > a').text\n",
        "    _posted = str(soup.select_one('div.author'))\n",
        "    author = re.sub('<.+>', '', _posted).strip()\n",
        "    _text = soup.select_one('meta[property=\"article:published_time\"]')['content']\n",
        "    date = re.sub('[A-Z]', ' ', re.search('[0-9]{4}-[0-9]{2}-[0-9]{2}.[0-9]{2}:[0-9]{2}', _text).group())\n",
        "    contents = soup.select_one('div.contents_style').text.replace('\\n','').strip()\n",
        "\n",
        "  elif soup.select_one('h1.entry-title') :  # 기타 4\n",
        "    title = soup.select_one('h1.entry-title').text\n",
        "    category = soup.select_one('div#primary-menu > ul > li > a').text\n",
        "    author = re.search('[A-Za-z0-9]+(?=@)', soup.select_one('div.copyright-bar').text).group()\n",
        "    _text = soup.select_one('span.posted-on > time')['datetime']\n",
        "    date = re.sub('[A-Z]', ' ', re.search('[0-9]{4}-[0-9]{2}-[0-9]{2}.[0-9]{2}:[0-9]{2}', _text).group())\n",
        "    contents = soup.select_one('div.entry-content').text.replace('\\n', '').strip()\n",
        "\n",
        "  elif soup.select_one('h2,title-article') :  # 기타 5\n",
        "    title = soup.select_one('h2,title-article').text\n",
        "    category = soup.select_one('p.category').text\n",
        "    author = soup.select_one('span.writer').text\n",
        "    date = soup.select_one('span.date').text\n",
        "    contents = soup.select_one('div.contents_style').text.replace('\\n', '').strip()\n",
        "\n",
        "  else :\n",
        "    title = '오류'\n",
        "    category = ''\n",
        "    author = ''\n",
        "    date = ''\n",
        "    contents = ''\n",
        "\n",
        "  return (title, category, author, date, contents, URL)\n",
        "\n",
        "\n",
        "def blog_save(p, k, s, e) :\n",
        "\n",
        "  start = 30*(p-1)+1\n",
        "  h = {'User-Agent':'Mozilla/5.0 (Windows NT 10.0; Win64; x64) AppleWebKit/537.36 (KHTML, like Gecko) Chrome/116.0.0.0 Safari/537.36'}\n",
        "  URL = 'https://s.search.naver.com/p/blog/search.naver?where=blog&sm=tab_pge&api_type=1&query={0}&rev=44&start={1}&dup_remove=1&post_blogurl=&post_blogurl_without=&nso=so%3Add%2Cp%3Afrom{2}to{3}&nlu_query=%7B%22r_category%22%3A%2233+25%22%7D&dkey=0&source_query=&nx_search_query={0}&spq=0&_callback=viewMoreContents'.format(k, start, s, e)\n",
        "  res = requests.get(URL, headers = h)\n",
        "  soup = BeautifulSoup(res.text.replace(\"\\\\\",\"\"), \"html.parser\")\n",
        "\n",
        "  for item in soup.select('li div.total_area > a') :\n",
        "    try :\n",
        "      results = get_blog(item['href'])\n",
        "    except :\n",
        "      results = ('오류', '', '', '', '', item['href'])\n",
        "\n",
        "  return results\n",
        "\n",
        "\n",
        "\n",
        "def get_blog_list(keyword, startdate, enddate) :  # 키워드&날짜 넣어서 10페이지까지 블로그 긁어오는 함수\n",
        "\n",
        "  # file = open(\"bloglist.csv\",mode=\"w\",encoding=\"utf-8\",newline=\"\")\n",
        "  # writer = csv.writer(file)\n",
        "\n",
        "  start = 1\n",
        "  URL = 'https://s.search.naver.com/p/blog/search.naver?where=blog&sm=tab_pge&api_type=1&query={0}&rev=44&start={1}&dup_remove=1&post_blogurl=&post_blogurl_without=&nso=so%3Add%2Cp%3Afrom{2}to{3}&nlu_query=%7B%22r_category%22%3A%2233+25%22%7D&dkey=0&source_query=&nx_search_query={0}&spq=0&_callback=viewMoreContents'.format(keyword, start, startdate, enddate)\n",
        "  h = {'User-Agent':'Mozilla/5.0 (Macintosh; Intel Mac OS X 10_15_7) AppleWebKit/537.36 (KHTML, like Gecko) Chrome/116.0.0.0 Safari/537.36', 'Referer' : 'https://search.naver.com/search.naver?where=news&query=%ED%85%8C%EC%8A%AC%EB%9D%BC&sm=tab_opt&sort=2&photo=0&field=0&pd=0&ds=&de=&docid=&related=0&mynews=0&office_type=0&office_section_code=0&news_office_checked=&nso=so%3Ar%2Cp%3Aall&is_sug_officeid=0&office_category=0&service_area=0', 'cookie':'NNB=KXDWSALR5HLWE; ASID=afc28e77000001821bee653700000062; _ga=GA1.2.852833469.1658355403; _ga_7VKFYR6RV1=GS1.1.1663030713.12.1.1663030726.47.0.0; NFS=2; m_loc=8e6c6458de8107ce6b301a2fdcaac47c270f10d32641f9fdfed1b5b1faac3e2c; NV_WETR_LAST_ACCESS_RGN_M=\"MDIxMzU1NTA=\"; NV_WETR_LOCATION_RGN_M=\"MDIxMzU1NTA=\"; recent_card_list=2936,3397,2717,3977; nx_ssl=2; nid_inf=-1453188587; NID_AUT=3O547E30xwR+LSPJWBh1H0BeJZ8z7w5GcYoFiB1oouz7XPFXgUYyapi0YaIPu/ed; NID_JKL=G/s4QbAdJVVTz69y/dBkR/9g00VQhbM8nxg71ZvVgyE=; NID_SES=AAABoKkgglCWz6aloghoOZ3uiyN2Gx8Ya6M3siOaeQCtWMn7TXgrPkganW/YVI931ONSrWmpB6IIM3p/mCMfueM9ekkTAuzM2mj8PfOoUbrV7BrzerfHGStcNmmb0QkiSuOy8AH1MwneQ7sJCTZBpPEfIbn9HUQ6S62sMy5oLJ0xqXedXxwQ4TsBa4+6Z6FWpVTIfmTzWMFt/M4pfpxYEbYAVBsfhLIsNPCjHLCrkoDdQPeUS949dDM9Xf8zpucBTRJrB6GwKaQDSeVWs+OgXngp1iusiktNnHZ7hEWDO5gyZCXkA7jV9njHKBDw6b58JD2La4eTPDBjq6xzUHaCAt+L7rGlpQ5FWHh1UF8XcyHGLdi2zQRHHSs9giWGIdbJ61akjlPZM/N8vL9zJZcw8qFmko0EY8RNmF1aUNE7qEcfaEyQNu/tlmIsUeYl5kPbZgL8fUiKMssPunn4ciffRsstEIcRbvtkVUdDKvr5QdQdf5J0o167t5vXBvctqzggQXUYOOBv8Cb9G9W5NcGibg9J3OCd7JMZTNGPV6gFAtga/WJL; page_uid=idY26sprvTVssudbzPwssssssI4-486433; _naver_usersession_=SXc2E3wZ6W9q/0SVHj+cMQ=='}\n",
        "  res = requests.get(URL, headers = h)\n",
        "  total_page = int(res.text[28:].split('\\\"')[0])//30+1\n",
        "\n",
        "  total_page = 10\n",
        "\n",
        "  with Parallel(n_jobs=4) as parallel :\n",
        "    result = parallel(delayed(blog_save)(p, k=keyword, s=startdate, e=enddate) for p in tqdm(range(1, total_page + 1)))\n",
        "    print(result)\n",
        "\n",
        "  # file.close()\n",
        "\n",
        "#   return pd.DataFrame(li, columns=['title','category','nick','date','content', 'url'])\n",
        "\n",
        "\n",
        "tesla = get_blog_list('테슬라', '20230921', '20230921')\n",
        "print(tesla)\n"
      ],
      "metadata": {
        "id": "AIuMDmBS-wdn",
        "colab": {
          "base_uri": "https://localhost:8080/",
          "height": 106,
          "referenced_widgets": [
            "b04b777ee873415fb2d3b8737582e70c",
            "14c4c2df821a46d6bc4271e218de60f4",
            "38d4a92cbc294fd39a942c3ee8509730",
            "cd815f074d7e440086ded72afa5dcdef",
            "058123ed998f46349aa6b2f5b0d277a8",
            "7f7bb40974b3475298811798547bad50",
            "b935499df2804a1dbe3023a0833cd2bf",
            "1d8f1d12f3054a02acf4db475f84a203",
            "577fac27b92648c398066fe3c69bc1f1",
            "f17ea4cb190a4756b9b6dc986e8b698c",
            "34998cb4c9d2478aab13458b470e8ee4"
          ]
        },
        "outputId": "1174e597-3fdd-44f6-bae1-2574b0796669"
      },
      "execution_count": null,
      "outputs": [
        {
          "output_type": "display_data",
          "data": {
            "text/plain": [
              "  0%|          | 0/10 [00:00<?, ?it/s]"
            ],
            "application/vnd.jupyter.widget-view+json": {
              "version_major": 2,
              "version_minor": 0,
              "model_id": "b04b777ee873415fb2d3b8737582e70c"
            }
          },
          "metadata": {}
        },
        {
          "output_type": "stream",
          "name": "stdout",
          "text": [
            "[('[드라마/리뷰] 브러쉬업 라이프 (스포많음주의)', '영화/드라마', '주먹왕', '2023. 9. 21. 23:07', '          브러쉬 업 라이프   연출 카리야마 슌스케 출연 안도 사쿠라, 카호, 키나미 하루카, 마츠자카 토리, 소메타니 쇼타, 쿠로키 하루, 우스다 아사미, 스즈키 코스케, 타나카 나오키, 시다 미라이, 노로 카요, 노마구치 토오루, 이치카와 유이, 나카지마 히로코, 우라지 누노, 미우라 토코, 타케모리 센토, 토미테 아미, 나카타 쿠루미, 세토 타케오 방송                                                 2023, 일본 NTV             \\u200b예고편 및 간단 줄거리는 아래 영상 참조https://tv.naver.com/v/32179210                 \\u200b진짜진짜진짜 너무 재밌었다! 평일 이틀만에 다 봄!!                    \\u200b평점: ★★★★★ (5점 만점!!)총평: 너무 귀엽고 너무 행복한 드라마였다키워드: 타임루프                  \\u200b평범한 일상을 보내고 있던 콘도 아사미.어렸을때부터 자라온 동네 시청에서 근무하며 점심시간에는 근처 식당에서 직장 동료들과 회사욕.퇴근 후에는 한달에 두 번 절친들과 만나 저녁을 먹고 노래방에 가는 게 낙이다. 이날은 스티커 사진도 찍음ㅋㅋㅋ                    \\u200b위 세명이 절친 삼인방이다. 왼쪽부터 나치, 미뽕, 그리고 주인공 아칭. (다 별명)노래방 가서 한참 수다를 떨고 노래 부르다가 다같이  편의점 가서 간식 먹고 이제 헤어지는데\\u200b                    예....생을 마감했습니다.                    \\u200b타임루프물이라는 걸 알고 시작했기 때문에 죽는다는 건 알았지만!!!!이렇게 죽을 줄은 몰랐다. \\u200b죽은 후 도착한 이곳은 온 사방이 하얀 곳                    이상한 아저씨가 안내소라는 곳에 앉아있다.죽은 사람 신원 확인하고 다음 생 안내를 도와주는 꿀빠는 아저씨.\\u200b안내해주는대로 가기 전에 다음생에 뭐가 되는지 궁금했던 주인공은 본인이 과테말라 남동부의 큰 개미핥기로 태어난다는 걸 알게 됨....                    킹받게 사진까지 보여줌ㅋ아저씨 왈 이번생에 쌓은 덕이 부족하여 본인이 원하는 생물로는 태어날 수 없다는 거다.\\u200b옼...케........하고 환생하려는데 아저씨가 갑자기 내세가 아닌 현생을 다시 사는 것도 가능하단다.중요한 걸 참 늦게 말하는 개킹받는 아저씨^^                    \\u200b그리하여 현생을 다시 살게 된 주인공 콘도 아사미!! 과연 이번생은 덕을 쌓고 다음생에 인간으로 태어날 수 있을 것인가!                  여기까지가 간단한 스포(?)이자 전체 줄거리 되시겠다.이어서 계속 보시면 절대 후회하지 않으실 겁니다.\\u200b본격 스포에 들어가기 전에 간단하게 드라마 전반적인 얘기를 해보자면, \\u200b주인공인 콘도 아사미 역을 맡은 안도 사쿠라                    사실상 10화짜리 드라마의 전체적인 줄거리를 끌고 가는, 원맨쇼라고 불릴 정도의 드라마인데연기를 너무 잘한다. 다른 작품을 본 적은 없어서 잘 모르겠지만 10화 내내 보면서 이질감을 느낀 적이 한번도 없다.너무 러블리하고 일상연기가 일품인 배우다. 다른 작품도 봐보고 싶다고 생각했다. \\u200b또 드라마 전체적으로 쓸데없이 일상적인 대화가 되게 많은데, 이게 너무 좋다.아니 물론 걔중에는 나중에 보면 중요한 멘트들도 있지만ㅋㅋㅋ 그래도 대부분 신변잡기적 (이렇게 드라마에 길게 나와도 되나 싶을 정도의) 얘기들인데, 이게 듣고 있으면 꽤나 재밌다ㅋㅋㅋㅋ\\u200b미묘한 그 개그들도 취향저격이라 재밌게 봤음ㅋㅋㅋ 개그코드가 맞는다는 건 중요하다.                             이 다음부터는 진짜 대형 스포니 드라마 보실분들은 나중에 다 보고 다시 놀러오세요아래 플랫폼에서 볼 수 있습니다~ (2023.09 기준)                    \\u200b\\u200b\\u200b\\u200b\\u200b\\u200b\\u200b\\u200b\\u200b\\u200b\\u200b\\u200b\\u200b\\u200b\\u200b이제부터 다회차 인생을 시작하는 아칭.                         왼쪽부터 유치원, 초등학교, 중고등학교 시절의 주인공        아역들이 진짜 너무 귀여웠다. 이 시기는 우리나라 응답하라 시리즈처럼 그 시절 우리에게 익숙했던 물건이나 일상을 보여준다.진달래 따먹기, 다마고치, 게임보이, 드라마, 스티커 교환하기 등등 물론 일본 드라마다 보니 백프로 매치는 안되지만 그래도 언뜻 비슷한 느낌이다.\\u200b아니 나는 사실 한번만 환생하는 줄 알았는데 드라마 몇화까지 있나 내려보다가 각 화 설명 보고 스포당했다. 아니 대놓고 \"3회차\" 이런 거 써놓으면 어떡하냐고ㅋㅋㅋㅋㅋㅋㅋㅋ 아무튼 5회차까지 있으니 아역 친구들도 5번은 볼 수 있다ㅋㅋㅋㅋ이런 거 보면 촬영순서를 어떻게 짤 지 궁금하다. 정말 내용 순서대로 찍진 않고 세트장 별로 찍지 않을까? 신기                    \\u200b\\u200b주인공 콘도 아사미는 5회차 인생 모두 다른 직업으로 살아보는데                                                Previous image Next image   순서대로 시청 공무원 - 약사 - 방송국PD - 의사 및 연구원 - 파일럿         \\u200b각 직업들의 업무들이 꽤나 자세하게 묘사되어서 좋았다.또 직업마다 달라지는 복장에 대한 묘사, 쓰는 이모티콘이 달라지는 거, 머리스타일 등 세세한 부분까지 변화가 드러나는 게 재밌었다.배우가 진짜 연기를 잘 하는 듯. 개인적으로는 3회차때 주인공의 모습이 제일 편해 보여서 좋았다.                    \\u200b\\u200b사실 우리나라 드라마들은 대부분 기승전연애라 2회차 인생에서 전남친 얘기할때 얘도 그러려나....했는데 다행히 아니었음ㅋㅋㅋ오히렼ㅋㅋㅋㅋㅋㅋㅋㅋㅋ주인공이 남친이랑 사귀면 남친의 미래 연봉이 줄어드는 기적ㅋㅋㅋㅋㅋ너무 웃겼다\\u200b아무튼 커리어의 변화가 중점적으로 보여서 좋았다. \\u200b사실 내가 2회차 인생을 산다면.... 기존에 나왔던 히트곡들을 미리 발표해서 떼돈을 벌어야지! 같은 생각밖에 안 들 것 같은데...(아니면 테슬라를 사야겠다....?ㅋㅋㅋㅋㅋㅋㅋ)근데 주인공은 내 예상과 다르게 너무 일상적으로 성실하게 산다는 점이 매우 놀라웠고 인생 X차에도 열심히 살아가는 주인공이 멋있었음\\u200b3회차에 방송국PD가 됐을 때도 이제 3회차쯤 됐으니까!! 나중에 성공했을 드라마 같은 걸 미리 자기 아이디어처럼 내지 않을까 했는데 정말 성실히 자기 얘기를 썼다ㅋㅋㅋㅋㅋㅋㅋㅋㅋ덕을 쌓기 위함이라기엔 그냥 천성이 너무 착했다 이 주인공. 그래서 5번이나 기회를 얻은 걸까                    \\u200b아무튼 환생 4회차때쯤부터 슬슬 이야기에 막바지에 들어가는데, 뭉클하고 감동적이고 그랬다.사실 일드 특유의 억지 감동을 좋아하지 않는데 이 드라마는 정말 일상적이라 그조차 담담하게 풀어나가는 게 너무 좋았다.\\u200b음...또....중간중간 뭔가 의미심장하게 새로운 인물이 나와서 긴장했는데 다 별 거 아니라 그것도 웃겼음ㅋㅋㅋㅋㅋ그리고....3회차~4회차 넘어가는 데서 저 꿀빠는 아저씨랑 티키타카하는 것도 웃김 T와 F의 대화ㅋㅋㅋㅋ\\u200b아무튼 이래저래 웃음코드도 맞고 마음도 따뜻해지는 드라마였다!! 강력추천!!                               \\u200b                  \\u200b<후일담>사실 타임루프 자체는 자세히 생각하면 꼬일 것 같은데(예를 들어, 누구는 이번 회차가 마지막이고 나는 이번 회차가 마지막-1인 경우 내가 다음 생을 살게 되었을 때 그 사람은 어떤 모습인가? 라던가 둘이 죽는 타이밍이 다를 때 그 인생은 누구를 기준으로 다시 시작되는가 라던가)그냥 아무생각 없이 보기로 했다. 머리아파 아파\\u200b\\u200b     ', 'https://blog.naver.com/tall_size_punch/223218180079'), ('TIGER 미국나스닥 100커버드 콜(합성). 월배당 ETF 투자로 노후준비!', 'ETF투자\\xa0정보', '제이투J', '2023. 9. 21. 21:53', '     월배당 ETF 투자로 노후준비! 국내 상장 해외 ETF 중에서 배당률 상위 종목으로\" 월배당 ETF 종목이 1.2.3위\"를 차지하고 있으며그중에서도 커버드콜 상품이 배당률이 가장 높다. \"월배당형ETF는 총 31종목\"이 상장되어 있고\"순자산 규모는 2조 7천억 원\"에 달해 월배당형 ETF에 관심이 늘어나는 추세이다.\\u200b월배당 ETF의 장점은 매달 나오는 분배금을 활용하여 \"제2의 월급으로 활용\" 하거나 받은 분배금을 다시 \"재투자\"할 수도 있고 아니면 다른 주식에 분배금으로 이용해 \"투자 포트폴리오\"를 다양하게 가져갈 수 있는 장점이 있다. \\u200b년 배당 ETF나 분기 배당 ETF보다 월단위로 자산관리를 직접 하면서 자산관리의 흐름을 읽어 나갈 수 있다는 장점과 다양한 형태로 자산을 재투자할 수 있다는 것이 가장 큰 장점 중 하나이다.\\u200b젊은 층이나 직장인들 사이에서도 월배당을 받으면서 새로운 \"월급 파이프라인\"으로 활용하거나 배당 재투자를 통해 \"노후를 준비\"해나가는 사람들이 늘어나면서 월배당의 활용도가 커져가고 있다.  국내 상장 월배당 ETF는 상장 기간은 얼마 되지 않았다. 요 근래 들어서 대중의 관심을 받으며 시장에 상장되는 추세이다. 하지만 해외 월배당 ETF에 경우 우리나라보다 오래전에 상장되어 꾸준히 월배당을 주며 인기를 끌고 있으며 대표적인 예가 2013년도 출시 상품으로 나스닥 100종목을 추종하여 기초지수로 만든 \"QYLD\"이며 대표적으로 애플, 나스닥, 아마존들이 포함되어 있으며 \"기술 주위로 포트폴리오가 구성\" 되어있는 종목이다.\\u200b 그 밖에도 2013년도에 상장한 DGRW(배당 성장 위주),2016년도에 상장한 DIVO(배당 성장 위주), 2020년에 상장한 JEPI(저 변동 위주) 등 대표적인 미국 월배당 ETF가 있으며 각각 투자성향과 배당성향의 차이가 있다. \\u200b국내 월배당 관련 ETF의 상장 시기는 짧지만 이미 미국에서 월배당 관련 ETF 검증되어 거래가 이루어지고 있기 때문에 투자자 입장에서\" 년 배당이나 분기 배당 보다 월배당으로 자산을 관리하고 싶은 투자자에게 안성 맞춤이다.\"그래서 국내 상장 해외 ETF 중 배당성향이 높고 국내에서 인기가 많은 월배당 ETF를 소개해 보고자 한다. TIGER 나스닥 100커버드 콜(합성) TIGER 나스닥 100커버드 콜 ETF는 미국 나스닥지수를 기반으로 커버드콜 전략을 활용하여 월 배당금을 주는 상품으로 미래에셋자산운용의 미국 자회사인 Global X의 대표 상품인 \"QYLD의 한국 버전\"이라고 보면 된다\\u200b 최초 상장일은 2022년 9월 상장되어 월배 당금이 지급된 기간은 1년밖에 되지 않았지만 QYLD와 동일하게 나스닥지수를 추종하기 때문에 2013년부터 검증되어 거래가 이루어지고 있는 미국 월배당 ETF이기 때문에 미국 QYLD와 비교하여 투자 결정에 참고하면 된다. \\u200b국내 상장 해외 ETF에 투자하는 장점은 환전비용이 따로 발생하지 않는다는 것과 미국 개장 시간이 11시이기 때문에 투자하는데 어려움이 있는 반면 국내 상장 해외 ETF의 경우 국내 주식시장과 동일하게 거래가 가능하기 때문에 낮 시간에도 거래를 활발하게 진행할 수 있다.만약 환율에 민감하거나 투자를 직접 확인하며 투자하는 투자자로서 국내 상장 해외 ETF 투자 시 고려 사항이다.  TIGER 나스닥 100커버드 콜 과 QYLD 비교                       TIGER 나스닥 100커버드 콜 과 QYLD 나스닥 100지수를 추종하며 커버드콜 방식을 상용하는 상품으로 같다. 다른 점은 QYLD는 2013년에 상장하여 거래가 이루어지고 있으며 TIGER 나스닥 100커버드 콜은 상장한지 1년 정도 밖에 되지 않아 비교 자료 참고 시 QYLD와 비교하면서 투자에 임해야 된다는 것이다. 국내 상장 해외 ETF와 직접투자하는 해외 ETF의 차이점은 원화 투자와 달러 투자로 직접투자의 경우 달러 환전비용이 발생하게 된다.   TIGER 나스닥 100커버드 콜 스펙                    최초 상장일은 2022년 9월로 상장한지 얼마 되지 않아 QYLD와 비교하여 투자할 수밖에 없다. 배당금 ETF 투자의 선정 기준은 오래도록 꾸준히 배당금을 지급했는지이다. 그렇기 때문에 상장일 확인과 배당금을 꾸준히 지급한 내역을 확인하고 투자하는 것이 바람직하다.회사원들은 장기투자를 하여 노후 월급을 만드는 것을 목적으로 하여야 하기 때문에 배당 지금 기간을 투자에 고려 요소로 꼭 확인해 봐야 한다. 순자산총액 1341원이며 거래량은 22만 주 거래대금 평균 23억 원 규모로 시장의 관심을 받으며 꾸준히 순자산과 거래비율이 늘어날 걸로 예상된다. 수수료는 연 0.37%이다.  TIGER 나스닥 100커버드 콜 분배금 현황\\u200b2022년 12월부터 시작으로 월 1%대의 분배금이 매달 일정하게 지급되는 걸 확인할 수 있다. 년으로 환산 시 12%의 배당금 이을 지급받게 된다. 상장 이후 꾸준히 배당금 지급을 하고 있는 걸 확인할 수 있다.                       TIGER 나스닥 100커버드 콜 업종 비중                      TIGER 나스닥 100커버드 콜 ETF는 나스닥 종목을 통해 나스닥지수를 추종하여 커버드콜 방식으로 수익을 창출해 내고 있기 때문에 애플 11.31% 비중이 가장 높고 마이크로소프트, 엔비디아, 메타, 테슬라 등 기술 중 중심으로 종목이 구성되어 있는 걸 확인할 수 있다. 현시대는 기술발전 시대이기 때문에 앞으로도 AI, 자율주행, 메타버스, AR 글라스, 로봇 관련 사업들로 인해 기술주 중심의 성장이 꾸준히 일어날 것으로 예상된다.  TIGER 나스닥 100커버드 콜 VS 나스닥 지수                       TIGER 나스닥 100커버드 콜 방식은 주식이 상승할 시 콜옵션을 매도하여 수익을 취하는 구조이기 때문에 커버드 콜의 단점인 지수가 상승하게 되더라도 지수 수익률분을 반납해야 된다는 것이다. 그래프를 보면 나스닥이 2023년 기점으로 상승 전환하였지만 TIGER 나스닥 100커버드 콜 ETF는 지수 수익률을 하회한다고 보면 된다. 하지만 분배금 재투자 시 운영성과를 확인해 보면 배당금 재투자 시 나스닥 지수 상승률보다 조금 더 앞서 있는 걸 확인해 볼 수 있다.커버드 콜의 단점이 상승 시 수익이 제한된다는 장점은 명확하다. 하지만 장기 투자 관점에서 보면 주식의 상승과 하락은 크게 중요한 요인은 아니라고 생각한다. 배당금을 재투자하여 주식 수를 증가시켜 노후에 배당금을 늘려간다는 목적으로 투자하는 것이 맞다. 단기간만 보고 투자하게 되면 지수의 고점과 저점을 맞출 수가 없다. 투자자라면 다들 고민하는 부분이다. 변동성이라도 심하게 되어 사고팔고를 반복한다면 지금 받고 있는 배당 수일률을 도달하기는 불가능하다. 개인투자자들이 성공하지 못하는 지점 또한 꾸준한 복리 투자를 무시하고 빨리 벌고 싶은 마음에 무리한 급등주 투자 하기때문이다.장기로 봤을 때 지수 수익률만큼의 수익이 나지 않게 되는 결과를 초래하게 된다. 그렇기 때문에 커버드 콜 방식의 단점도 명확하지만 장점 또한 명확한게 사실이다. 장단점의 명과 암을 잘 구분하여 자신에 맞는 투자 방식을 찾아가는 것이 가장 중요하겠다.  TIGER 나스닥 100커버드 콜 분배율. 성장률           지급기준연도  분배율  분배 성장률  2022. 12월부터  연 12%  0%             TIGER 나스닥 100커버드 콜 2022년 12월부터 분배금을 지급하고 있고 평균 월 1%대의배당금을 주고 있어 연 12%의 분배율로 계산한다. 분배 성장은 이루어지지 않고 있어분배 성장률은 0% 기준으로 잡고 세브로 배당금 재투자 계산기를 이용해 노후 월급을 계산해 보자. ( QYLD 과거 배당 성장률이 -성장률이 난적도 있어 참고하길 바란다.) 초기 세팅 값 1. 보유자산 =3000만 원 설정 2. 배당률=12% 설정3. 배당 성장률=0% 설정4. 월 추가 투입은=50만 원 설정5. 투입은 증가율=0% 설정6. 목표 월 배당금=300만 원 설정\\u200b                      결과값 산출                     TIGER 나스닥 100커버드 콜 ETF 앞으로 꾸준히 월 1%의 분배금이 지급된다고 가정하여 배당금재투자 시 초기 자본 3000만 원 연 12% 배당금 배당 성장률 0% 계산하여 월 50만 원 적립식 투자 시 은퇴 시 \"월 300만 원 목표\"로\" 17년의 기간\"이 걸리게 된다. 년으로 3649만 원이 배당금이 발생하며 \"월 304원\" 지급받게 된다. 17년 후에 투자원금 1억 3천2백만 원에서 4억 1백만 원으로 약 200% 자산이 증가하게 된다.커버드콜 방식의 투자는 지수가 상승했을 시 콜옵션을 매도하여 수익을 얻는 방식으로 나스닥지수가 크게 상승하여도 TIGER 나스닥 100커버드 콜 ETF는 주가 상승을 따라가지 못하게 되는 단점이 명확하다. 그렇기 때문에 주가 상승할 때 오히려 “포모 현상”이 발생할 수 있는 단점이 있다. 나스닥지수가 올라도 내가 가지고 있는 ETF는 수익이 나지 않을 수 있기 때문이다.하지만 주식투자를 하게 되면 주식이 상승할지 하락할지 누구도 예측하지 못한다. 그렇기 때문에 지수 예측과 같이 스트레스를 줄이고 주식시장에 위험성에서 회피하기 위해 다소 지수를 따라가지 못하지만 월 배당금을 꾸준히 재투할시 의미 있는 성과가 날수 있다. \\u200b하지만 배당 관련 ETF는 다양하기 때문에 자신에 맞는 배당 ETF에 투자하거나 자산 분배를 통해 다양한 포트폴리오를 꾸려나가는 것도 좋은 방법이다.\\u200b\\u200b앞의 내용은 개인적 의견이니 투자는 자신이 선택하여 투자하는 걸 추천합니다.       ', 'https://blog.naver.com/stevenas/223218119511'), ('토씨 가죽 명품 차량용방향제 캐스퍼 꾸미기', 'Living', '몽꼬', '2023. 9. 21. 20:56', '       TOSSY토씨 가죽 차랑용방향제                      안녕하세요! 튜브낀몽작가입니다:)\\u200b캐스퍼 신차출고 후 꾸밀생각으로 설레일때,\\u200b가장 먼저 서치한 기본 차량용품은차량용방향제 제품이 아닐까 생각합니다\\u200b딥디크, 조말론, 디프로젝트, 아쿠아디파르마 등고급스러우면서도 세련된 브랜드가 많아 고민했어요\\u200b그 중 몽작가가 픽한 차량용방향제 “ 토씨 ” 입니다\\u200b캐스퍼 꾸미기 하면서 이것저것 사야할게 많았어요\\u200b비용적인 부분과 예쁘고 심플한 디자인의합의점을 찾다 선택한 8만원대의 세련된 토씨\\u200b에르메스의 고트스킨을 사용한 명품 가죽으로미적감각과 더불어 은은한 발향이 기분좋게만들었던 캐스퍼 꾸미기 리뷰 시작해보겠습니다                                            토씨 차량용방향제 85,000원\\u200b패키징이 잘 되어있어 선물용으로도 좋아보였어요색상은 총 5가지로 블랙/레드/카멜/크림/그리스\\u200b컬러 전부 고급스러운 색감이라 다 예뽓다는..🤍차량 내부 색상에 맞춰 블랙으로 내돈내산 주문했답니다                      화이트 머스크 / 블랙체리 / 프레쉬 네롤리/ 라벤더 / 코튼 / 레드베리\\u200b6가지 향 중 발향이 강한 화이트 머스크 택\\u200b다른 향도 맡아볼 수 있도록 시향지 챙겨주셔서비닐 안 보관 다음번 리필 살때 참고할 수 있겠더군요\\u200bTOP - LILY MUSKMIDDLE - JASMIN ROSEBASE - MUSK AMBER\\u200b텁텁하지않은 머스크계열에 살짝의 달달한꽃향이 추가된 느낌으로 은은하게 퍼지는 향으로어디선가 맡아본 향이 아니라서 더 좋았답니다🐽                                 구성품 - 가죽 방향제, 송풍구클립2p, 리필2p\\u200b수작업으로 제작된 가죽 차량용방향제 토씨명품브랜드에서 사용하는 렐마의 크리스페 고트 사용여러 해외 브랜드에서 애용하는 구터만 퀄팅실로만들어져 실물에서 느껴지는 고급미가 남달랐어요\\u200b엣지 스티치 퀄리티, 가죽의 볼륨감 등하자를 찾아볼 수가 없어 한눈에 반해버렸어요 🤍                                             프레그런스 파이(리필) 총 2개가 주어지는데1개 혹은 2개 모두 본품제에 넣을 수 있었어요\\u200b에어 밴트 클립은 숏과 롱타입 2가지로테슬라와 G80 등 일부차종은 사용불가캐스퍼는 당연 가넝한~ 검정색이 보이게~                                                   캐스퍼 새차냄새가 남아있어뒷면 오픈 후 2개 모두 넣어줬어요\\u200b클립부분이 플라스틱이라 부러지지않게조심해서 맞춰 눌러주셔야합니다 ‼️                                           넘 예쁘자나.. 경차가 외제차된 느낌\\u200b캐스퍼 환풍구가 원형이라 지지대가 없어 휘더군요ㅠ밑 부분 틈으로 종이 받쳐줬더니 짱짱하게 잘 붙어있어요!일반 승용차라면 숏/링 클립으로 조절하시면 될 것 같아요\\u200b다음엔 다른 향으로 리필해야겠어요질리지않는 세련된 디자인의 토씨 차량용방향제신차 꾸미기 하신다면 ㅊㅊ꾸욱 드려봅니다:)                 ', 'https://blog.naver.com/ys8693/223218074797'), ('스우파2 노래) Smoke - 다이나믹 듀오, 이영지 가사/듣기.', '공부', 'Queen Of POS', '2023. 9. 21. 19:36', \"     스우파2 노래) Smoke - 다이나믹 듀오, 이영지 가사/듣기.\\u200b안녕하세요 :D스우파 시즌1도 정말 반응이 뜨거웠는데이번에 시즌2도 정말 대박이네요!!\\u200b오늘 제가 포스팅할 곡은다듀, 이영지 - SMOKE인데용!\\u200b가사도 너무 잘살리고 다른 리더계급들에게도파트를 너무 잘 배분한 것 같다는 생각이 들었습니다 ㅎㅎ진짜 보는 내내 침흘리고 본 것 같네요...멋집폭봘                            Light it up Light it up Light it up 나는 달리거나 넘어지거나둘 중에 하나야 브레이크 없는 bike택도 없는 것들을 택도 안 뗀 옷 위로 stack it up난 절대 빠꾸 없는 type I’m gonna smoke you upI’mma smoke youI’m gonna smoke you upI’mma smoke youI’m gonna smoke you upI’mma smoke you싹 다 부수고 원상복구해 (light it up) 적자생존아마 난 진짜 1내일 없는 애들 빈 수레가 요란해 that’s why I’m shootingTo your 골대 cuz you have no keeper차린 것 없는 밥상 들이밀지 말고 zip up저기 빈털터리들 재떨이에 털어 넣고 twerkin‘Then I’mma smoke another chanceYou know that I’mma chop itLazy ho그리고 또 stupid thug모자란 애들 들이 마시고 뱉어 that’s wassup 내 입김은 태풍 내가 후 하고 불면 넌 힘없이 쓰러지는 가로수무대 위 조명은 늘 파란불 내가 짓밟고 가는 넌 횡단보도 위에 가로줄어차피 너무 기운 시소 이쯤 되면 너에게 필요한 건 시도 아닌 기도 난 입으로 널 패지 구타처맞은 것처럼 네 뺨은 붉게 불타 나는 달리거나 넘어지거나둘 중에 하나야 브레이크 없는 bike택도 없는 것들을 택도 안 뗀 옷 위로 stack it up 난 절대 빠꾸 없는 type I’m gonna smoke you upI’mma smoke youI’m gonna smoke you upI’mma smoke youI’m gonna smoke you upI’mma smoke you싹 다 부수고 원상복구해 (light it up) 끝났어 파티는 잔 돌려 ice water 여긴 아무도 없네 날 상대할 카리스마가 타자 팔자에 난 outsider 죽거나 싹 쓸어 주먹 안에 주사위타고난 dice roller 지그시 밟아주지 부득이 싸움 나면 속도 조절 어린이 보호구역부터 아우토반 까다롭게 굴어 사우스포갈기지 턱주가리 카운터 넌 피식 쓰러지는 나무토막  I’mma south side baddieCollect all these veggiesLap top 위에서 money dance넌 계속해라 copyNothing's dynamic in ur life저주 같지 다 끝난 파티 뒤에서꽁초나 하나 줍길Man I can't curse to youCuz you already die for itSorry that I’m so stable in my lifeI’m done with itBetter get your moneyOr u better get ma number 다 피고 남은 꽁초 더밀꽂아줄게 주머니에 나는 달리거나 넘어지거나둘 중에 하나야 브레이크 없는 bike택도 없는 것들을 택도 안 뗀 옷 위로 stack it up 난 절대 빠꾸 없는 type I’m gonna smoke you upI’mma smoke youI’m gonna smoke you upI’mma smoke youI’m gonna smoke you upI’mma smoke you싹 다 부수고 원상복구해 (light it up) 하이킥 로우킥에 넌 쓰러지지 픽픽풀린 두 다리 눈 콧바람은 씩씩네 목을 조르는 내 두 다리 사이로 보이는 네 흰자위힘없이 탭탭 질식팔다리를 꺾는 암바와 니바 네 자존심을 꺾는 짬바와 이빨넌 피투성이 사람들이 기겁해난 관대해 더 버티지 마 받아줄게 기권패 다 겪었지 대우차부터 테슬라 다 꺾였지 같이 짬밥 먹던 랩 스타 We stand strong 완력보다 강한 펜촉 우습게 봐도 오래 버티는 게 센 놈 상어 밥도 안돼 넌 그냥 벵에돔 엄마 젖은 사치 이유식을 맥여 더 빈약한 커리어 세치 혀로 채 썰어 태운 다음 재 털어  I’m gonna smoke you upI’mma smoke youI’m gonna smoke you upI’mma smoke youI’m gonna smoke you upI’mma smoke you싹 다 부수고 원상복구해 (light it up) I’m gonna smoke you upI’mma smoke youI’m gonna smoke you upI’mma smoke youI’m gonna smoke you upI’mma smoke you싹 다 부수고 원상복구해 (light it up)      \", 'https://blog.naver.com/jjkk91/223218017212'), ('*값싼 테슬라와 인공지능 FSD의 핵융합.. 테슬라가 점점 더 무서워지는 이유', 'General', '남고', '2023. 9. 21. 18:48', '     https://youtube.com/watch?v=jfqo2J2eKDA&si=bbxiQkHAO0UDt6VW             ', 'https://blog.naver.com/kylee8833/223217984205'), ('오라클이 만드는 사이버트럭 경찰차 이야기', '테슬라이야기', 'sandglass17', '2023. 9. 21. 17:53', '     오라클의 창업자이자 CEO 래리 엘리슨이 프리젠테이션을 했는데요.\\u200b그 내용이 매우 흥미롭네요.                    \\u200b\\u200b12개월 안에 테슬라가 자율주행차를 완성할 것이다.\\u200b - 그는 테슬라와 협업도 하고, 일론하고 가깝기도 한 것으로 알려져 있는데, - 또한, 오라클이라는 상업용 데이터베이스 시장의 절대 강자의 CEO로서 그의 정보력을 무시할 수 없겠지요.\\u200b될때까지 된것이 아닌 자율주행. \\u200b애초에 자율주행의 정의를 뭐로 내려야 할지.  특정 지역에서 100% 자율주행 차량으로만 운행시키면 안전해질까요?\\u200b\\u200b이어지는 얘기로 사이버트럭을 경찰차로 만드는 이야기가 나옵니다.                    \\u200b그는 오라클이 준비하고 있는 \"차세대 경찰차\"에 가장 부합하는 차량이 \\u200b테슬라의 사이버트럭이라고 소개합니다.이미 테슬라와 긴밀한 협조를 통해 이 차량을 경찰차로 만드는 작업을 하고 있다고 하네요.\\u200b                    \\u200b경찰차의 덕목은 무엇일까요?\\u200b - 기존에는 포드의 차량이 많이 쓰였습니다.\\u200b전기차인 사이버트럭은 경찰차로 적합한 측면이 많이 있습니다.(일단 내연기관 차량인 포트의 차량과 비교해서요)\\u200b 1. 낮은 유지비      - 세금으로 운영하는데 경제성은 중요하죠.\\u200b 2. 적은 차량정비     - 차량정비는 단순 돈이 아니라 \"시간\"을 뺐기 때문에 상업용차량에서 치명적인 부분입니다. 전기차는 엔진오일, 브레이크패드 등 차량 정비 빈도수가 매우 적습니다.\\u200b 3. 강력한 성능     - 범인을 잡는데 빠른 가속, 주행성능은 필수적이겠죠? 전기차, 테슬라의 주행성능은 모든 차를 압도합니다.    - 한국의 경찰차는 기존 모델에서 터보 업그레이드를 한다고 하는데...\\u200b 4. 청정 대기시간    - 경찰, 형사 등 순찰이나 잠복 등의 활동에는 차안에서 생활을 하게되죠.    - 전기차는 공회전이 없어 매연이 발생하지 않고, 소음도 없는상태로 내부에서 모든 전자기기를 사용할 수 있습니다.    - 당연히, 냉난방이 빵빵한것도 기본이죠.\\u200b 5. 각종 첨단장치     - 오라클이 지향하는 차세대 경찰차는 카메라와 위치를 네트웍으로 공유하는데 있습니다.    - 그 모든 장치가 사이버트럭에는 기본으로 장착이 되어 있네요.\\u200b 6. 확장성    - 테슬라의 스크린은 무한한 확장성을 가집니다.    - 경찰차로 쓴다면 경찰 전용 어플을 설치하면 되는 것이지요.    - 어러한 확장성을 고려하지 않고 디자인적으로 구성되는 다른 회사들의 전기차와는 확연히 다릅니다.\\u200b                    \\u200b위 사진은 사이버트럭 뒷자리에 범인 격리용으로 설치된 공간을 보여주고 있습니다.매우 튼튼해 보입니다.\\u200b                    \\u200b위 사진은 사이버트럭을 경찰차용으로 개조한 모습입니다.아직은 테슬라의 앱으로 통합되지 않아서 별도의 전환장치를 통해 사용한다고 하네요.\\u200b                    \\u200b쓰기 좋은 위치에 테블릿이 있으니 이러한 확장도 되는것 같습니다.\\u200b                    \\u200b아날로그 버튼은 경찰과 같은 긴급임무 수행에는 더 편리하겠지요.왠지 멋저보이는 다양한 버튼들도 장착한 모습니다.\\u200b\\u200b이를보면 오라클이 차세대 경찰차에 진심인 것 같네요.\\u200b\\u200b오라클은 데이터베이스 기업으로 다양한 정보를 잘 흘러다니게 해서 보다 나은 세상을 만드는 것을 목표로 합니다.\\u200b이번 차세대 경찰차 프로젝트를 통해경찰의 업무수행능력을 대폭 향상시키려는 것이 목표인데,\\u200b오라클의 설명에 따르면\\u200b지도상에 경찰차의 위치를 공유하고,각 차량이 보는 상황(차량의 카메라)을 볼 수 있으며,타켓(범인?)의 위치 공유 등 \\u200b현대 시대에 걸맞는 첨단 기능을 구현할 것이라고 하네요.\\u200b어찌보면 누군가는 해야할 일을 오라클이 하는 것 같습니다.\\u200b미국 전역의 경찰차를 이렇게 업그레이드 한다면사이버트럭은 하나의 아이콘이 될 것 같네요.\\u200b이는, 단순 경찰차의 판매 매출을 넘어서전기차라는 최첨단 자동차가 가져오는 시대의 변화를 보여주게 될 것입니다.\\u200b\\u200b*영화를 통해 형사들의 잠복을 보지만, 사실 전기차도 냉난방을 틀면 어느정도 소리가 나서\"시동\"을 켜는 것보다는 조용하지만, 잠복 때 쓰긴 어려울 꺼란 생각도 드네요.\\u200b그래도 기존 내연기관 차량보다는 나을 것입니다. ㅎ\\u200b\\u200b\\u200b좋아하는 분야를 널리 공유하기 위해 글을 쓰고 있습니다.글이 마음에 드셨다면 공감과 댓글 그리고 이웃추가를 부탁드립니다.저에게는 큰 힘이 됩니다.     ', 'https://blog.naver.com/sandglass17/223217938461'), ('[오늘의 테슬라 소식] 23.09.21 \"테슬라, 中 CATL과 계약 내용 밝혀라\" & 전기차 특허, BYD가 테슬라보다 16배 많은 이유 & 테슬라 11년 묵혀 8000% 수익', '전기차이야기', '머블리', '2023. 9. 21. 17:19', '                                                                                                                                                                                                                                                                                                                                                                                                                                                                                                                                          \"테슬라, 中 CATL과 계약 내용 밝혀라\"_한국경제TV_테슬라 등 전기차 업체가 미국 정부에서 받는 인플레이션 감축법(IRA) 혜택이 중국 배터리 기업에 흘러 들어갈 수 있다는 우려의 목소리가 미 의회에서 커지고 있다. 20일(현지시간) 미 연방 하원 세입위원회에 따르면 제이슨 스미스 위원장(공화·미주리)은 전날 일론 머스크 테슬라 최고경영자(CEO)에게 서한을...$$$$$$$전기차 특허, BYD가 테슬라보다 16배 많은 이유_한국경제_전기차 판매량 2위인 중국 BYD가 세계 최대 전기차 회사인 미국 테슬라보다 특허를 16배 많이 보유한 것으로 나타났다. 두 회사의 생산 방식 차이가 전혀 다른 특허 전략을 낳았다는 분석이다. 21일 니혼게이자이신문에 따르면 2003년 창업한 테슬라가 2022년까지 20년 동안 출원한 특허수는 836건이었다. 반면...$$$$$$$테슬라 11년 묵혀 8000% 수익률...英 \\'명품펀드\\' 한국 상륙_머니투데이_테슬라에 11년 넘게 장기투자해 8000% 넘는 수익률을 낸 영국계 자산운용사와 한국의 신영자산운용이 손잡고 한국시장에 신상 펀드를 선보였다.... 베일리기포드는 지난 2013년 테슬라 주식을 7달러부터 매입해 2대주주에 등극, 8000%에 달하는 수익률을 기록한 \\'파워 성장주 하우스\\'로 유명한 곳이다....$$$$$$$캐시 우드 \"ARM 열풍 과대평가…테슬라는 큰 기회\"_연합인포맥스_우드는 전기 자동차업체 테슬라(NAS:TSLA)에 대해 \"오늘날 세계에서 가장 큰 AI 기회\"라고 극찬했다. 그는 \"이제 막 시작해 아직 갈 길이 멀다\"면서도 \"테슬라의 자율주행 택시 기회가 승자가 될 것\"이라고 말했다. 그는 사람들을 A 지점에서 B 지점으로 가장 빠르고 안전하게 이동시키는 첫 번째 회사가...$$$$$$$테슬라 공동창업자 “배터리 공급부족 불보듯…미래는 ‘이것’에 달려”_매일경제_JB 스트라우벨 테슬라 前CTO “원자재 비중 높은 배터리, 전기차 보급 발목 재활용 통한 생산 늘려야 수요 맞출수 있어” 샌프란시스코 테크크런치... 그는 테슬라의 극초기 멤버로 2019년까지 CTO를 지냈다. 2017년 배터리 원자재 재활용 기업인 레드우드 머티리얼즈를 창업해 지난 8월 기업가치를...$$$$$$$테슬라 사이버트럭, 경찰차로 변신…어떤 모습일까?_지디넷코리아_테슬라의 차세대 전기 픽업트럭 사이버트럭이 경찰차로 변신한 모습이 공개됐다고 자동차 전문 매체 일렉트렉이 20일(이하 현지시간) 보도했다. 오라클 창업자이자 전 테슬라 이사회 멤버인 래리 엘리슨은 이날 열린 오라클 클라우드월드 2023 컨퍼런스에서 경찰차에 사용할 수 있는 오라클 소프트웨어 솔루션을...$$$$$$$아반떼는 22만원 테슬라는 10만원?… 자동차세, 가격 기준으로 손본다_매경이코노미_즉 1억원이 넘는 테슬라 모델X 차주는 10만원만 내면 되지만 아반떼 차주는 연간 22만원의 세금을 내야 한다. 이는 1990년대의 자동차 행정 기준을 수입차와 전기차가 늘어난 지금까지도 적용하면서 생긴 문제다. 최병관 행안부 지방재정경제실장은 “배기량 기준이 기술 발전을 못 따라가고 있다. 친환경차...$$$$$$$미래에셋 \\'서학개미\\'…테슬라·엔비디아 등으로 3년간 3조5000억원 벌었다_뉴스1_미래에셋증권 고객들이 보유한 상위 5개 종목은 테슬라, 엔비디아, 애플, 마이크로소프트, 알파벳 순으로 구성된 것으로 나타났다. 한편... X2E(X to Earn, X 하면서 돈 벌기) 개념이 적용된 혜택 서비스 이벤트로 1억원 상당의 테슬라 주식을 추첨을 통해 1명에게 지급하는 등의 이벤트를 진행 중이다.$$$$$$$테슬라보다 비싼 아반떼 자동차세… 이젠 차값으로 매긴다_국민일보_차량 가격이 1억2900만원 수준인 테슬라 모델X의 자동차세는 10만원인 반면 2000만원 수준인 아반떼 가솔린 1.6 모델의 자동차세는 22만원이 넘는 상황이다. 행안부 관계자는 “공정 과세 측면에서 친환경차와 기존 가솔린 등 차량과의 과세 기준이 불합리하다는 지적이 적지 않았다”며 “다만 개편...$$$$$$$“테슬라는 노트북 배터리 갖고 노는 엔지니어 무리”…GM의 오판_헤럴드경제_미국 제너럴모터스(GM)가 초창기 전기차 제조업체 테슬라를 얼마나 얕잡아 보았는지 알려주는 일화가 공개됐다. 생산성 저하, 노동자 파업 등으로... 2009년 GM 이사회에 합류한 기르스키 CEO는 회사 측에 테슬라를 경계해야 한다고 밝혔다. 하지만 “‘테슬라는 노트북 배터리를 갖고 노는 엔지니어 무리’...$$$$$$$“테슬라는 노트북 배터리 갖고 노는 엔지니어 무리”…GM의 오판_헤럴드경제_미국 제너럴모터스(GM)가 초창기 전기차 제조업체 테슬라를 얼마나 얕잡아 보았는지 알려주는 일화가 공개됐다. 생산성 저하, 노동자 파업 등으로... 2009년 GM 이사회에 합류한 기르스키 CEO는 회사 측에 테슬라를 경계해야 한다고 밝혔다. 하지만 “‘테슬라는 노트북 배터리를 갖고 노는 엔지니어 무리’...$$$$$$$[김대호 박사의 오늘 기업·사람] 화웨이·애플·현대차·BYD·테슬라·신세계·이마트_SBS Biz_날벼락 \\'현대차·BYD·테슬라\\' 다음은 전기차 소식도 살펴보겠습니다. 우리 기업들이 생산하는 전기차가 이번엔 프랑스발 악재를 만났습니다. 프랑스... 39% - 테슬라 첫 출시 후 15년 만에 500만 대 생산 기록 - 500만 번째 차량은 中 공장의 \\'모델3\\' 하이랜드 - 테슬라, 웨이보에 500만 번째 생산 차량 사진 올려...$$$$$$$\"리튬 정복해야 전기차 승자\"…테슬라·도요타도 광산으로 달려간다_한국경제_배터리 및 광산기업이 주도해온 광물 확보전에 테슬라 폭스바겐 도요타 등 글로벌 자동차 기업까지 가세하고 있다. 전기차 판매량이 급증하면 배터리에... 파이낸셜타임스(FT)는 “리튬이온 배터리업계의 두 가지 양극재 기술(NMC, LFP)이 패권 경쟁을 벌이는 가운데 테슬라 비야디(BYD) 폭스바겐 등 자동차...$$$$$$$테슬라 1.47%-니콜라 10%, 美전기차 일제↓(종합)_뉴스1_테슬라는 1.47%, 루시드는 0.91%, 리비안은 1.50% 각각 하락했다. 특히 니콜라는 10% 폭락했다. 니콜라가 폭락한 것은 경쟁업체인 중국의 니오가 10억... 테슬라는 1.47% 하락한 262.59 달러를, 리비안은 1.50% 하락한 22.40 달러를, 루시드는 0.91% 하락한 5.45 달러를 각각 기록했다.$$$$$$$테슬라, UAW 전면 파업 땐 상당한 반사이익_글로벌이코노믹_극찬 테슬라가 미국 자동차산별노조 UAW 파업 효과를 제대로 받고 있다. 비록 20일(현지시간) 제롬 파월 연방준비제도(연준) 의장의 강성발언으로 주식시장이 급락세로 돌아서면서 동반 하락하기는 했지만 장 중반까지 대형기술주 약세 속에 홀로 2%대 상승세를 기록했다. 인공지능(AI) 호재도 테슬라에...$$$$$$$[EV 대전 ③] \\'미래차 상징\\' 테슬라, 하이테크 입지 굳힌다_서울와이어_글로벌 완성차업체 현대차, 기아, BMW, 테슬라의 전기차 개발 역사와 현주소, 그리고 전망을 집중 탐구해본다. <편집자주> 테슬라의 모델 S. 사진=테슬라 미국의 전기차업체 테슬라는 전기차의 개념이 낮설던 시절 창업해 사실상 관련 시장을 만들었다. 단순 전기차를 넘어 완전자율주행이 가능한 오토파일럿 등을...$$$$$$$뉴욕증시, 연준 추가 금리 인상 시사에 하락…애플 2%·테슬라 1.47%↓_더팩트_테슬라는 장중 273.93달러까지 오르기도 했지만 시장 급락세 속에 3.91달러(1.47%) 하락한 262.59달러로 거래를 마쳤다. 이날 투자자들은 연준의 기준금리 추가 가능성 시사를 주시했다. 연준은 연방공개시장위원회(FOMC) 정례회의 직후 발표한 성명에서 \"기준금리를 5.25~5.50%로 유지하기로 했다\"고...$$$$$$$테슬라 협력사 호타, 첫 해외공장 美 뉴멕시코주에 짓는다_글로벌이코노믹_세계 최대 전기차 제조업체 테슬라의 주요 협력사 가운데 한 곳인 대만의 호타인더스트리얼이 첫 해외공장을 미국 뉴멕시코주에 짓기로 했다고... 호타인더스트리얼 테슬라에 전기차용 기어박스를 독점적으로 공급해 온 협력업체다. 쉔 회장은 “신종 코로나바이러스(코로나19) 사태를 무려 3년간 겪고 미국과...$$$$$$$[Invest]엔비디아 AI 독주에 제동 나선 테슬라…\\'줄타기\\' 필요한 국내 대기업들_인베스트조선_\"왜 자동차 회사가 신경망 훈련을 위한 슈퍼컴퓨터를 만드는지 자주들 묻는데, 테슬라에 대한 오해에서 비롯된 질문이다. 테슬라는 기본적으로 하드코어 테크놀로지 기업이다\" (2022년 9월, 피터 배넌 테슬라 저전력·실리콘엔지니어링 총괄 부사장, 테슬라 AI데이中) 엔비디아가 독점할 것 같던 인공지능...$$$$$$$금리가 발목? 다우ㆍ나스닥 \\'와르르\\'...테슬라 하락에 에코프로 다시 무너지나_핀포인트뉴스_한편 서학개미들의 선호주인 테슬라는 1.47% 하락했다. 국내 2차전지 관련주에 부정적 영향이 예상된다. 국내 2차전지 관련주는 삼성SDI LG화학 SK이노베이션 포스코홀딩스 웰크론한텍 넥스트아이 솔루스첨단소재 삼아알미늄 신성델타테크 엔시스 씨노텍 포스코퓨처엠 에코프로 포스코홀딩스 솔브레인...$$$$$$$사이드 미러 안 접힌 차 찾아 두리번…테슬라 \\'탈탈\\' 턴 도둑[영상]_뉴스1_글쓴이 A씨는 자신을 안산에 살고 있는 테슬라 모델3 차주라고 소개하며 사연을 전했다. A씨에 따르면 그는 이날 오전 절도범에게 현금 25만원, 선글라스, USB 메모리, 4T 외장하드 등을 도둑맞았다. A씨가 공개한 영상에는 자전거를 끌고 등장한 남성이 주차장을 배회하며 두리번거리다가 A씨 차 옆으로 다가가는...$$$$$$$사이드미러 안 접힌 테슬라 차량에 들어가 귀중품 탈탈 터는 절도범 (+영상)_위키트리_경기 안산 소재의 한 아파트에 살고 있는 테슬라 모델3 차주라고 자신을 소개한 A씨는 \"지난 10일 오전 8시경 잠깐 차에 갔다가 다시 집으로 왔는데 문이 안 잠겨져 있었나 보다\"고 운을 뗐다. 이어 \"점심 때 아내와 다른 차 타고 귀가하면서 테슬라 옆 공간에 주차하면서 봤는데 테슬라 사이드미러가 펼쳐져...$$$$$$$미국 검찰, ‘머스크 비리’ 수사 전방위 확대… “테슬라서 CEO 셀프 특혜 받아”_한국일보_돌출 발언과 기행으로 연일 잡음을 빚는 ‘트러블 메이커’ 일론 머스크 테슬라 최고경영자(CEO)의 회삿돈 유용 혐의에 대한 미국 연방검찰 수사가 전방위로 확대되는 양상을 보이고 있다. 당초 테슬라의 자산으로 호화 저택을 지으려 했다는 의혹이 출발점이었는데, 이제는 부적절한 ‘셀프 특혜’ 등 또 다른...$$$$$$$명신산업·씨티알모빌리티, 테슬라 관련주 하락…특히 명신산업 2% 낙폭_이코노뉴스_씨티알모빌리티 주가흐름(그래픽=네이버페이 증권 캡처) 테슬라 관련주인 씨티알모빌리티와 명신산업이 하락세다. 씨티알모빌리티는 21일 코스피 시장에서 오전 10시28분 현재 전 거래일보다 1.63%(220원) 하락한 1만3290원에 거래되고 있다. 센트랄모텍은 씨티알모빌리티(CTR Mobility)로 사명을...$$$$$$$美 AI주 MS·테슬라 등↓\\'국내 테마주에 외국인 폭풍 \\'매수\\' 셀바스AI 주가↑_포인트데일리_△트림블 -0.08%△서비스나우 -0.31%△도큐사인 -0.62%△트윌리오 -0.71%△아이로봇 -0.74%△로크웰 오토메이션 -0.90%△테슬라 -1.47%△버즈피드 -1.75%△워크데이 -2.18%△마이크로소프트 -2.40%△업스타트 홀딩스 -2.42%△다이나트레이스 -2.43%△인튜이티브 서지컬 -2.57%△팔란티어 테크 -2.71%△엔비디아 -2.94...$$$$$$$머스크 “뇌에 칩 심을 분 찾습니다”_조선일보_뇌신경과학 스타트업 ‘뉴럴링크’ 생각으로 컴퓨터 제어 임상 시험 일론 머스크 테슬라 최고경영자(CEO)가 이끄는 뇌신경과학 스타트업 ‘뉴럴링크’... 머스크는 BCI 기술로 시각 장애인의 시력을 회복시키고 사지 마비 환자의 근육 운동을 가능하게 할 수 있다고 장담한다. 지난 2021년 원숭이의 뇌에 칩...$$$$$$$“사람 뇌에 ‘컴퓨터 칩’ 심을 것”…임상시험 참가자 모으는 머스크_매일경제_사지마비 환자 대상 6년간 ‘생각으로 컴퓨터 제어’ 목표 일론 머스크가 창업한 스타트업 뉴럴링크가 뇌 속에 칩을 집어넣기 위한 임상시험 참가자를... 머스크는 뉴럴링크를 통해 비만, 자폐증, 우울증, 조현병 등 질병 치료를 위한 컴퓨터 칩 이식 수술을 용이하게 만들겠다는 계획이다. 지난 5월에...$$$$$$$머스크 \\'전자칩 뇌이식\\'할 사람 찾는데…\"실험 원숭이 죽었다\" 폭로_머니투데이_일론 머스크 테슬라 최고경영자(CEO)가 전자칩 뇌 이식 인간 임상 대상자 모집을 시작한 가운데 과거 원숭이 임상에서 부작용에 의한 사망 사례가... 이는 머스크가 밝힌 \"뉴럴링크 임플란트로 인해 원숭이가 죽은 사실이 없다\"는 말과 대치된다. PCRM은 원숭이 임상이 진행됐던 캘리포니아 국립 영장류 연구센터...$$$$$$$머스크, 아들 안고 회담…정상들의 ‘슈퍼갑’_채널A_괴짜 CEO로 불리는 일론 머스크가 국가 정상을 만나는 자리에 세 살짜리 아들을 안고 나왔습니다. 마주하는 정상들은 불편할법도한데, 앞다퉈 그를 만나고 있습니다. 정다은 기자입니다. [기자] 제 78차 유엔 총회 참석차 미국 뉴욕을 찾은 에르도안 튀르키예 대통령. 일론 머스크 테슬라 최고경영자를 만나 공장...$$$$$$$뇌에 컴퓨터 칩 이식…머스크의 \\'뉴럴링크\\', 첫 임상자 모집_TV조선_테슬라 CEO 머스크가 설립한 뇌과학 스타트업이 인간의 뇌에 컴퓨터 칩을 이식하기 위한 임상시험에 들어갔습니다. 생각만으로 컴퓨터나 로봇을 조작할 수... 일론 머스크의 뇌과학 스타트업 뉴럴링크가 이른바 \\'뇌 임플란트\\' 임상시험을 승인받고 대상자 모집을 시작했습니다. 백원 동전 크기의 컴퓨터 칩을 뇌에...$$$$$$$美 하원위원장, 일론 머스크에 \"中 CATL 계약내용 밝혀라\"_디지털타임스_머스크에게 중국 최대 배터리 업체인 CATL과의 계약 내용을 밝힐 것을 요구했다. 미국 정부의 인플레이션 감축법(IRA)에 따른 전기차 보조금 혜택이 중국 기업에게 흘러들어갈 수 있다는 우려에서다. 20일(현지시간) 미 연방 하원 세입위원회에 따르면 제이슨 스미스 위원장(공화·미주리)은 전날 일론 머스크...$$$$$$$미국 검찰, ‘머스크 비리’ 수사 전방위 확대… “테슬라서 CEO 셀프 특혜 받아”_한국일보_돌출 발언과 기행으로 연일 잡음을 빚는 ‘트러블 메이커’ 일론 머스크 테슬라 최고경영자(CEO)의 회삿돈 유용 혐의에 대한 미국 연방검찰 수사가... 19일(현지시간) 미국 월스트리트저널(WSJ)은 뉴욕남부지검이 2017년 이후 테슬라가 CEO인 머스크에게 과도한 ‘CEO 특혜’를 제공하고도 이를 제대로 공개하지...$$$$$$$\\'머스크 전기\\' 출간 일주일만에 9만부 판매…잡스 전기 이어 2위_아시아경제_일론 머스크\\' 전기가 미국에서 출간된 지 일주일 만에 9만부 이상 판매됐다고 20일(현지시간) 월스트리트저널(WSJ)이 보도했다. 역대 자서전 판매 중 스티브 잡스 전기에 이어 두번째로 많이 팔린 수치로 알려지면서 화제가 되고 있다. WSJ가 시장조사기관 서카나를 인용해 보도한 바에 따르면 일론 머스크...$$$$$$$[백승찬의 우회도로] 일론 머스크를 이해하기 위하여_경향신문_일론 머스크를 비판적으로 보기 위해 <일론 머스크>(사진)를 읽기 시작했다. 평전 <스티브 잡스> 집필로 유명한 월터 아이작슨의 신작이다. 전 세계 동시 발간을 앞두고 서구 언론에선 책의 주요하고 자극적인 내용들이 수시로 보도됐다. 위에 언급한 뉴럴링크 임원 시본 질리스에게 정자를 기증한 일, 스타링크...$$$$$$$\"기후변화 가짜뉴스, X가 최악…머스크 인수 후 혼란 가중\"_연합뉴스_국제 기후단체와 가짜뉴스 반대단체 평가 일론 머스크가 인수한 엑스(Xㆍ옛 트위터)가 5대 기술 플랫폼 가운데 기후변화와 관련된 허위 정보에 가장... 기후행동은 또한 머스크의 X 인수가 콘텐츠 정책에 대한 불확실성을 만들었다면서 머스크의 인수 이후 X의 콘텐츠 관련 정책 결정과 집행을 둘러싼 혼란이...$$$$$$$우주인 머스크 활용법[오후여담]_문화일보_일론 머스크, 메타 CEO 마크 저커버그가 대표적인데, 이들의 주요 발언은 실시간으로 공유되며 해외 방문 때도 취재진의 주목을 받는다. 몇 해 전 미국의 한 빅테크 분석 보고서는 아마존과 MS를 미국의 국가적 챔피언으로, 애플과 구글은 글로벌리스트로 규정하면서, 머스크와 저커버그를 ‘테크노 유토피언’...$$$$$$$머스크 \\'뇌에 칩 이식\\' 곧 임상시험…안전·윤리 문제는 여전_JTBC_테슬라 최고경영자, 일론 머스크가 또 한 번 논란의 중심에 섰습니다. 뇌에 컴퓨터 칩을 심어 생각만으로 기기를 움직이는 사업을 진행 중인데 실제... 이 기술은 테슬라 CEO, 일론 머스크가 만든 스타트업 회사가 만들었습니다. [일론 머스크/뉴럴링크 설립자 : 원숭이는 생각만으로 마우스 커서를 움직이고...$$$$$$$\\'뇌에 칩\\' 머스크의 뉴럴링크, 첫 임상시험 참가자 모집_YTN사이언스_일론 머스크 테슬라 최고경영자의 뇌신경과학 스타트업 뉴럴링크가 인간의 뇌에 컴퓨터 칩을 이식하기 위한 임상시험 참가자를 모집하기 시작했다고 블룸버그, 로이터 통신이 보도했습니다. 뉴럴링크는 공지를 통해 첫 임상에 대한 심사위원회 승인을 받았다면서 경추 척수 부상이나 근위축성측삭경화증 등으로...$$$$$$$[글로벌] 옛 트위터 \\'X\\', 전면 유료화되나...머스크 \"월 사용료 부과\"_테크M_/사진=디디다 컴퍼니 제공 일론 머스크 테슬라 최고경영자(CEO)가 엑스(X·옛 트위터)의 전면 유료화를 검토 중입니다. CNBC에 따르면 머스크는 지난 18일(현지시간) 미국 캘리포니아주 프리몬트 테슬라 기가팩토리에서 이스라엘 총리인 베냐민 네타냐후와 면담을 진행했습니다. 이 자리에서 머스크는 \"거대한 \\'봇...$$$$$$$일론 머스크가 그리는 큰그림? 힌트는 \\'위챗\\'_포춘코리아_지난 4월 일론 머스크가 440억 달러에 트위터를 사겠다고 제안한 직후, 그는 의기양양하게 \"우리는 스팸 봇들을 물리치지 않으면 죽을 것이다!\"라는 트윗을 올렸다 머스크는 현재의 X인 그 소셜미디어를 소유한 지 거의 1년이 지났지만, 냉정하게 아직도 성공하지 못했다고 자평한다. 그는 성공을 위해 새로운...$$$$$$$머스크, 중앙아시아 해양 철도 서비스 출시_물류신문_머스크는 미국, 극동, 지중해, 유럽과 중앙아시아를 연결하는 새로운 운송 솔루션을 발표했다. 이번 솔루션은 엔드투엔드(end-to-end) 복합운송 솔루션으로... 머스크는 전용 트럭 운송 풀을 이용해 조지아, 아제르바이잔, 우즈베키스탄, 카자흐스탄에 라스트 마일 연결로 배송 안전성을 높였다. 출처: 머스크$$$$$$$북미서 열린 \\'스타트업 월드컵\\'…\"제2 머스크·저커버그 찾는다\"_한국경제_일론 머스크 테슬라 CEO와 마크 저커버그 메타 CEO도 사업 초기 이 무대에 올랐다. 행사의 인기는 아침부터 실감할 수 있었다. 오전 9시부터 참가자의 줄이 수백ｍ 구불구불 이어져 행사장 입장까지 2시간 가까이 기다려야 했다. 고금리 장기화로 벤처 투자가 위축된 상황에도 불구하고, 이번 행사에 마련된...$$$$$$$덴마크 머스크, 현대미포 건조 세계 첫 메탄올 추진 컨선 도입_코리아쉬핑가제트_코펜하겐서 명명식 열려 덴마크 머스크는 HD현대 계열사인 현대미포조선에서 건조한 세계 최초 메탄올 추진 컨테이너선의 명명식을 최근 가졌다고 밝혔다. 덴마크 코펜하겐에서 열린 행사에서 머스크는 2100TEU급 메탄올 추진 컨테이너선을 <로라머스크>호로 명명했다. <로라머스크>는 머스크가 HD현대에...$$$$$$$리플 커뮤니티, 일론 머스크 트윗에 반응...애널리스트 ”XRP 1만 달러 돌파할 것”_코인리더스_가상자산 전문 뉴스 미디어 유투데이는 일론 머스크의 X(구 트위터) 게시글에 리플(Rippl, XRP) 커뮤니티가 즉각 반응을 보인 소식을 보도했다. 머스크는 베냐민 네타냐후(Benjamin Netanyahu) 이스라엘 총리와의 최근 논의 사항을 X로 공유하며, “역사는 승자의 시선에서 작성된다”라는 오래된 표현을...$$$$$$$머스크의 스페이스X, 망명자·난민 차별 관련 美 법무부 상대로 맞소송 제기_글로벌이코노믹_법무부에 소송 즉각 중단 요구…행정법원에서 소송 진행은 위헌 주장 일론 머스크의 우주 기업 스페이스X가 미국 법무부를 상대로 맞소송을 제기했다.... 머스크는 지난 8월에도 미국 시민권자나 영주권자가 아닌 외국인을 고용하다가 국제 무기 거래나 인신매매 관련 법을 위반할 수 있다고 주장했다. 그는...$$$$$$$Fed, 오늘 금리동결 확실시/관심은 점도표/일론 머스크, 칩 이식 임상시험 참가자 모집_라디오코리아_일론 머스크 Tesla CEO가 창업한 스타트업 뉴럴링크(Neuralink)가 뇌속에 칩을 집어넣기 위한 임상시험 참가자 모집에 나섰다. 1.오늘 9월 FOMC가 끝나고... *Neuralink, 일론 머스크 Tesla CEO가 창업한 스타트업 뇌속에 칩을 집어넣기 위한 임상시험 참가자 모집 발표 어제(19일) 블로그 통해서 이같은 내용 발표 독립...$$$$$$$머스크 “별거 중이라”…아들 안고 대통령 만났다_채널A_그런데 머스크가요, 무려 11명 아이의 아빠입니다. 이 중에 1명은 안타깝게 사망을 했고 지금 생존한 자녀 10명이라고 하는데. 그런데 엄마는 또... 머스크가 이 저출산을 굉장히 두려워한다고 합니다. 그래서 출산을 굉장히 장려한다고 하는데요. 이것도 육아도 요즘에 돈이 많이 드니까 능력이 있어야 가능한...$$$$$$$\\u200b     ', 'https://blog.naver.com/dedear1/223217904791'), ('테슬라 최근 주가 주요 흐름', 'Tesla', 'Sweet House', '2023. 9. 21. 16:06', '            ', 'https://blog.naver.com/rabbit-raccoon/223217831385'), ('수원자동차썬팅 권선구테슬라신차패키지 업템포', '2월29일\\xa0인테리어', '2월29일', '2023. 9. 21. 15:19', '     #수원자동차썬팅 #권선구테슬라신차패키지 #업템포                    차 관련 상담부터 시공 그리고출고까지 직접 사장님이모든 작업을 하는곳이 업템포그래서 만족스러운 자동차관리를 받아 볼 수 있는곳이랍니다.\\u200b\\u200b\\u200b         업템포위치: 경기 수원시 권선구 호매실로 104번길 23-41 1층운영시간 평일 10:00~19:00토요일 10:00~16:00매주 일요일은 휴무문의 : 0507-1310-53301인샵으로 운영 1:1맞춤 차튜닝이 가능         #수원테슬라패키지 #수원신차패키지 #권선구썬팅잘하는집 #호매실썬팅잘하는집\\u200b\\u200b\\u200b                               업템포는 테슬라는 물론전기차 관련 튜닝을 기본전차종 작업이 가능한곳인데요1인샵으로 개인 맞춤 시공을 해주는곳이랍니다\\u200b\\u200b\\u200b\\u200b                               수원 권선구 , 호매실 등자동차 썬팅부터 틴팅 그리고 튜닝을전문으로 하는곳인데요.매장앞, 순서를 기다리는 차량이 가득한거 있죠\\u200b\\u200b\\u200b\\u200b\\u200b                               저는 썬팅을 위해 다녀왔는데요4가지 종류의 필름을 사용하고 있는데요레인보우, 아마테라스 블라곺디 , 클라스틴트까지다양한만큼 선택의 폭이 넓어서 좋아요\\u200b\\u200b\\u200b                    시공하기전, 자동차에 기스가 가지 않도록꼼꼼하게 관리를 해주셨는데요거기다 컴퓨터 재단기가 마련되어 있어차종에 맞게 제작하여 필름시공을 하는곳이라오차없이 깔끔하게 시공을 받기에도 좋았답니다\\u200b\\u200b\\u200b\\u200b\\u200b                               썬팅의 경우 자동차에 투과율에 따라서 다양하게시공을 받아 볼 수 있는데요썬팅 =틴팅이라고 생각하면 되구요원래 정확한 명칭은 윈도우틴팅이라고하니참고하세요~ \\u200b\\u200b\\u200b                               수원자동차썬팅 권선구테슬라신차패키지로많이들 하는만큼..추천해드리고 싶은 전문업체인데요섬세한 작업을 요하는만큼...시간적인 여유를 가지고 가는게 좋겠죠?테슬라의 경우 일반차량과는 달리시공난이도가 있다고 하는데요.그래서 전문업체에서 받는게 좋겠죠?\\u200b\\u200b\\u200b                                             필름을 붙이는 작업에 있어서먼지가 들어가지 않게 하는게 중요하고잘못하게되면 그부분이 뜨다보니 ...ㅜㅜ 더욱 신중하게 붙일 수 밖에 없는것 같아요오랫동안 시공을 한곳이라..손놀림이 예사롭지 않으시던데요. 다양한 노하우를 가지고 계시다보니 만족스러운 관리를 받아 볼 수 있으니 비교후 이용해 보시길 ...\\u200b\\u200b\\u200b                                             수원자동차썬팅으로 추천하는 이곳테슬라는 창문의 프레임이 없다보니그부분을 더욱 신경을 써야된다고 하네요.권선구테슬라신차패키지 추천하는 업템포랍니다\\u200b\\u200b                                    이렇게 끝부분까지 세심하게작업을 해주시다보니 .. 이거 붙인게 맞아? 싶을만큼깔끔하니 좋았는데요. 요런건 저처럼덜렁거리는 사람은 못할듯요 ㅋㅋㅋ마무리까지 깔끔하니 너무나 만족~\\u200b                           수원자동차썬팅 권선구테슬라신차패키지 업템포~실생활에서 손상되기 쉬운부분에생활보호 PPF보호필름을 통해보호를 할 수 있는데요. 꼼꼼하게 관리를 해주시는만큼 만족! \\u200b\\u200b\\u200b                    상담부터 시공 그리고출고까지 직접 사장님이모든 작업을 하는곳이 업템포~ 비교후에 이용해보세요\\u200b\\u200b             업템포 경기도 수원시 권선구 호매실로104번길 23-41 1층                      \\u200b     ', 'https://blog.naver.com/32sjdqls/223217782422'), ('[주식 재테크] 영림원소프트랩 전망! 증시는 하락했지만 이종목만큼은 상승한다!', '주식 공부자료', '차트분석쟁이', '2023. 9. 21. 14:43', '     안녕하세요 주식 기술적분석쟁입니다.         모든 글은 글쓴이의 개인적인 생각이며 주가조작의 의도는 없습니다.         영림원소프트랩은 전사적 자원관리(ERP)솔류션 을 개발,공급하며 유지관리용역 을 주요사업으로 영위하고있습니다. 한국형 ERP패키지 K-ststem을 개발,공급 하고있습니다. \\u200b\\u200b         증시는 하락하고 있지만 영림원소프트랩은 추가상승이 나올수있습니다.          근거를 말씀드리겠습니다1. 영림원소프트랩 의 차트를 보시면 과거에는 쭉 하락하던모습입니다. 허나 7월26일 기준으로 역대 가장 많은거래량을 실은 장대캔들 이 나온이후 주가는 저점을 높이고 고점을 높히며 더이상 하락을 멈추겠다는 의지를 보여준 캔들이 발생했습니다.                    \\u200b2. 이렇다 저렇다 할 상승은 나오고있지않지만 최근 들어서는 거래량있는 장대꼬리양봉이 발생하면서 위에있는 매물들을 콕콕 찔러보고 하락하고 찔러보고 하락하고있지만 하락시에는 일정 가격라인을 이탈하지않고 지켜주고있는 모습입니다.                    \\u200b3. 추세가 저점,고점이 상승을 하고있어 현재 추세는 상승추세를 이어주고있습니다. 고점과 저점이 높아지니 자연스레 주가캔들이 중요보조지표 위로 올라와서 움직여주고있습니다. (이동평균선) 노란색 이평선을 넘고 현재 자리를 잡아주고있습니다.                    \\u200b4. 강서 한강지구 쓰레기줍기 자원봉사 도 실시하며 수질개선에 도움되려하는 모습도 보여주며 환경을 쾌적하게하기위한 운동을 하고있습니다. 또 영립원소프트랩 기업문화 혁신 컨퍼런스도 개최하며 다양한 모습을 보여주고있습니다.                           \\u200b         그럼 언제 매수하면 좋을까요?         현 코스피,코스닥 둘다 분위기가 좋지않은상태이고 영림원소프트랩 종목자체에 거래량도 엄청 낮은 수준입니다.매수를한다하더라도 빠른시간안에 수익을 기대하기는 어려운게 사실인 현 증시 상태입니다.\\u200b다만 현재가격이 단기적으로 가장 좋은 매수하기에 좋은 시점입니다. 위에 나와있는 매수근거들을 참고해서 본인만의 매매계획을 수립하여 매매를 진행하시길 바랍니다.         영림원소프트랩 기본적분석입니다.                                          영림원소프트랩 PER : 9.96영림원소프트랩 시가총액 : 711억영림원소프트랩 대주주 지분율 : 20.38%배당수익률 : 1.6%\\u200bPER은 높은데 배당수익률이 있네요 ^^                    영림원소프트랩은 23년6월부터 매출액이  50%정도 매출이감소함에 따라 영업이익부분에서도 크게 줄어든모습이네요.                     안정성부분에서는 부채비율은 30.2% 유보율 1,005억 입니다.\\u200b유보율이 시가총액보다 많고 부채는 없으니 회사자체에서 신사업,개발 추진하기에는 부담이 없겠네요     ', 'https://blog.naver.com/cjsdkstl8494/223217746672')]\n",
            "None\n"
          ]
        }
      ]
    }
  ]
}