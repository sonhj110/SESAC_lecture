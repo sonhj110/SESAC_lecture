{
  "nbformat": 4,
  "nbformat_minor": 0,
  "metadata": {
    "colab": {
      "provenance": [],
      "authorship_tag": "ABX9TyPAafgum0nezVleLjIhvoTx",
      "include_colab_link": true
    },
    "kernelspec": {
      "name": "python3",
      "display_name": "Python 3"
    },
    "language_info": {
      "name": "python"
    }
  },
  "cells": [
    {
      "cell_type": "markdown",
      "metadata": {
        "id": "view-in-github",
        "colab_type": "text"
      },
      "source": [
        "<a href=\"https://colab.research.google.com/github/sonhj110/SESAC_lecture/blob/master/%EB%94%A5%EB%9F%AC%EB%8B%9D_%EA%B8%B0%EC%B4%88(%EC%A7%80%EB%8F%84%ED%95%99%EC%8A%B5_%EC%84%A0%ED%98%95%ED%9A%8C%EA%B7%80_%EB%A1%9C%EC%A7%80%EC%8A%A4%ED%8B%B1%ED%9A%8C%EA%B7%80).ipynb\" target=\"_parent\"><img src=\"https://colab.research.google.com/assets/colab-badge.svg\" alt=\"Open In Colab\"/></a>"
      ]
    },
    {
      "cell_type": "markdown",
      "source": [
        "# 실습1 - 텐서플로우로 선형회귀 모델링"
      ],
      "metadata": {
        "id": "Jf-UPT_iQgCb"
      }
    },
    {
      "cell_type": "code",
      "execution_count": null,
      "metadata": {
        "id": "Ruf-Brd0QciK"
      },
      "outputs": [],
      "source": [
        "import numpy as np\n",
        "from tensorflow.keras.models import Sequential\n",
        "from tensorflow.keras.layers import Dense\n",
        "\n",
        "x = np.array([2,4,6,8,10])\n",
        "y = np.array([20,24,37,40,50])"
      ]
    },
    {
      "cell_type": "code",
      "source": [
        "model = Sequential()  # 모델 선언\n",
        "\n",
        "model.add(Dense(1, input_dim = 1, activation = 'linear'))\n",
        "# ‘add’ : 신경망 모델 쌓기\n",
        "# ‘Dense’ : 각 층의 입력과 출력을 연결\n",
        "# 인풋 차원 = 1, 활성화 함수 = 선형회귀\n",
        "\n",
        "model.compile(loss='mse', optimizer = 'sgd', metrics = ['accuracy'])\n",
        "# ‘Compile’ : 딥러닝 모델 실행\n",
        "# 손실함수 mean square error, 옵티마이저 sgd"
      ],
      "metadata": {
        "id": "YD9BTn-jQwa5"
      },
      "execution_count": null,
      "outputs": []
    },
    {
      "cell_type": "code",
      "source": [
        "model.summary()  # 내가 만든 모델 확인할 수 있음"
      ],
      "metadata": {
        "colab": {
          "base_uri": "https://localhost:8080/"
        },
        "id": "SAuGP10MRfZ9",
        "outputId": "9ef75105-3d39-4021-fcc0-63d1cfe050f7"
      },
      "execution_count": null,
      "outputs": [
        {
          "output_type": "stream",
          "name": "stdout",
          "text": [
            "Model: \"sequential\"\n",
            "_________________________________________________________________\n",
            " Layer (type)                Output Shape              Param #   \n",
            "=================================================================\n",
            " dense (Dense)               (None, 1)                 2         \n",
            "                                                                 \n",
            "=================================================================\n",
            "Total params: 2 (8.00 Byte)\n",
            "Trainable params: 2 (8.00 Byte)\n",
            "Non-trainable params: 0 (0.00 Byte)\n",
            "_________________________________________________________________\n"
          ]
        }
      ]
    },
    {
      "cell_type": "code",
      "source": [
        "model.fit(x, y, epochs = 10)  # epochs 학습 반복 횟수\n",
        "# ‘fit’ : 딥러닝 모델 학습"
      ],
      "metadata": {
        "colab": {
          "base_uri": "https://localhost:8080/"
        },
        "id": "bl8lpPHxRgDv",
        "outputId": "396e565e-0b01-4957-a5f9-e1686e72bcdc"
      },
      "execution_count": null,
      "outputs": [
        {
          "output_type": "stream",
          "name": "stdout",
          "text": [
            "Epoch 1/10\n",
            "1/1 [==============================] - 1s 556ms/step - loss: 660.0298 - accuracy: 0.0000e+00\n",
            "Epoch 2/10\n",
            "1/1 [==============================] - 0s 9ms/step - loss: 32.0558 - accuracy: 0.0000e+00\n",
            "Epoch 3/10\n",
            "1/1 [==============================] - 0s 11ms/step - loss: 25.1688 - accuracy: 0.0000e+00\n",
            "Epoch 4/10\n",
            "1/1 [==============================] - 0s 10ms/step - loss: 24.9451 - accuracy: 0.0000e+00\n",
            "Epoch 5/10\n",
            "1/1 [==============================] - 0s 10ms/step - loss: 24.7939 - accuracy: 0.0000e+00\n",
            "Epoch 6/10\n",
            "1/1 [==============================] - 0s 12ms/step - loss: 24.6446 - accuracy: 0.0000e+00\n",
            "Epoch 7/10\n",
            "1/1 [==============================] - 0s 9ms/step - loss: 24.4963 - accuracy: 0.0000e+00\n",
            "Epoch 8/10\n",
            "1/1 [==============================] - 0s 10ms/step - loss: 24.3491 - accuracy: 0.0000e+00\n",
            "Epoch 9/10\n",
            "1/1 [==============================] - 0s 11ms/step - loss: 24.2030 - accuracy: 0.0000e+00\n",
            "Epoch 10/10\n",
            "1/1 [==============================] - 0s 10ms/step - loss: 24.0578 - accuracy: 0.0000e+00\n"
          ]
        },
        {
          "output_type": "execute_result",
          "data": {
            "text/plain": [
              "<keras.src.callbacks.History at 0x7c8ab1ce1480>"
            ]
          },
          "metadata": {},
          "execution_count": 4
        }
      ]
    },
    {
      "cell_type": "code",
      "source": [
        "model.predict([5])  # 에측하기"
      ],
      "metadata": {
        "colab": {
          "base_uri": "https://localhost:8080/"
        },
        "id": "2HkEnhr2Rqbd",
        "outputId": "67e2cf96-594f-45b0-83e4-b501ff5bcb86"
      },
      "execution_count": null,
      "outputs": [
        {
          "output_type": "stream",
          "name": "stdout",
          "text": [
            "1/1 [==============================] - 0s 91ms/step\n"
          ]
        },
        {
          "output_type": "execute_result",
          "data": {
            "text/plain": [
              "array([[27.086037]], dtype=float32)"
            ]
          },
          "metadata": {},
          "execution_count": 5
        }
      ]
    },
    {
      "cell_type": "markdown",
      "source": [
        "# 실습2 - 텐서플로우로 선형회귀 모델링(2차원)"
      ],
      "metadata": {
        "id": "VFdPzRx-Rwiu"
      }
    },
    {
      "cell_type": "code",
      "source": [
        "import numpy as np\n",
        "from tensorflow.keras.models import Sequential\n",
        "from tensorflow.keras.layers import Dense\n",
        "\n",
        "x = np.array([[2,0],[4,5],[6,3],[8,5],[10,7]])  # x값의 차원 y값에 대응되는 x값의 개수\n",
        "y = np.array([20,24,37,40,50])"
      ],
      "metadata": {
        "id": "f8o_5PykRuB9"
      },
      "execution_count": null,
      "outputs": []
    },
    {
      "cell_type": "code",
      "source": [
        "model2 = Sequential()\n",
        "\n",
        "model2.add(Dense(1, input_dim = 2, activation = 'linear'))\n",
        "\n",
        "model2.compile(loss = 'mse', optimizer = 'sgd', metrics = ['accuracy'])\n",
        "model2.fit(x, y, epochs = 10)"
      ],
      "metadata": {
        "colab": {
          "base_uri": "https://localhost:8080/"
        },
        "id": "O1zK06n6R-jR",
        "outputId": "95f46920-0bd9-4d6c-b4dc-7d548c38be45"
      },
      "execution_count": null,
      "outputs": [
        {
          "output_type": "stream",
          "name": "stdout",
          "text": [
            "Epoch 1/10\n",
            "1/1 [==============================] - 0s 479ms/step - loss: 1266.9102 - accuracy: 0.0000e+00\n",
            "Epoch 2/10\n",
            "1/1 [==============================] - 0s 21ms/step - loss: 153.7502 - accuracy: 0.0000e+00\n",
            "Epoch 3/10\n",
            "1/1 [==============================] - 0s 14ms/step - loss: 49.1877 - accuracy: 0.0000e+00\n",
            "Epoch 4/10\n",
            "1/1 [==============================] - 0s 14ms/step - loss: 38.5747 - accuracy: 0.0000e+00\n",
            "Epoch 5/10\n",
            "1/1 [==============================] - 0s 15ms/step - loss: 36.7453 - accuracy: 0.0000e+00\n",
            "Epoch 6/10\n",
            "1/1 [==============================] - 0s 12ms/step - loss: 35.7680 - accuracy: 0.0000e+00\n",
            "Epoch 7/10\n",
            "1/1 [==============================] - 0s 13ms/step - loss: 34.9027 - accuracy: 0.0000e+00\n",
            "Epoch 8/10\n",
            "1/1 [==============================] - 0s 10ms/step - loss: 34.0789 - accuracy: 0.0000e+00\n",
            "Epoch 9/10\n",
            "1/1 [==============================] - 0s 10ms/step - loss: 33.2887 - accuracy: 0.0000e+00\n",
            "Epoch 10/10\n",
            "1/1 [==============================] - 0s 10ms/step - loss: 32.5301 - accuracy: 0.0000e+00\n"
          ]
        },
        {
          "output_type": "execute_result",
          "data": {
            "text/plain": [
              "<keras.src.callbacks.History at 0x7c8ab126e260>"
            ]
          },
          "metadata": {},
          "execution_count": 7
        }
      ]
    },
    {
      "cell_type": "code",
      "source": [
        "model2.predict([[5,7]])"
      ],
      "metadata": {
        "colab": {
          "base_uri": "https://localhost:8080/"
        },
        "id": "IU61oWJdSagr",
        "outputId": "d0da8247-49bd-46ce-dfd8-978cd520a371"
      },
      "execution_count": null,
      "outputs": [
        {
          "output_type": "stream",
          "name": "stdout",
          "text": [
            "1/1 [==============================] - 0s 36ms/step\n"
          ]
        },
        {
          "output_type": "execute_result",
          "data": {
            "text/plain": [
              "array([[31.289927]], dtype=float32)"
            ]
          },
          "metadata": {},
          "execution_count": 10
        }
      ]
    },
    {
      "cell_type": "markdown",
      "source": [
        "# 실습3 - 텐서플로우로 로지스틱 회귀 모델링\n",
        "로지스틱회귀 : 출력값이 0 아니면 1, 분류모델용"
      ],
      "metadata": {
        "id": "_HGhGmTWSq2L"
      }
    },
    {
      "cell_type": "code",
      "source": [
        "import numpy as np\n",
        "from tensorflow.keras.models import Sequential\n",
        "from tensorflow.keras.layers import Dense\n",
        "\n",
        "x = np.array([2,4,6,8,10])\n",
        "y = np.array([0,0,0,1,1])"
      ],
      "metadata": {
        "id": "b5IxWeT1ShRT"
      },
      "execution_count": null,
      "outputs": []
    },
    {
      "cell_type": "code",
      "source": [
        "model3 = Sequential()\n",
        "\n",
        "model3.add(Dense(1, input_dim = 1, activation = 'sigmoid'))\n",
        "\n",
        "model3.compile(loss = 'binary_crossentropy', optimizer = 'sgd', metrics = ['accuracy'])\n",
        "model3.fit(x, y, epochs = 50)"
      ],
      "metadata": {
        "colab": {
          "base_uri": "https://localhost:8080/"
        },
        "id": "SvMUZGO6Tqbr",
        "outputId": "bab30a31-e107-4068-8284-4f2033bd6ee9"
      },
      "execution_count": null,
      "outputs": [
        {
          "output_type": "stream",
          "name": "stdout",
          "text": [
            "Epoch 1/50\n",
            "1/1 [==============================] - 1s 512ms/step - loss: 0.7960 - accuracy: 0.6000\n",
            "Epoch 2/50\n",
            "1/1 [==============================] - 0s 11ms/step - loss: 0.7723 - accuracy: 0.6000\n",
            "Epoch 3/50\n",
            "1/1 [==============================] - 0s 17ms/step - loss: 0.7530 - accuracy: 0.6000\n",
            "Epoch 4/50\n",
            "1/1 [==============================] - 0s 11ms/step - loss: 0.7375 - accuracy: 0.6000\n",
            "Epoch 5/50\n",
            "1/1 [==============================] - 0s 12ms/step - loss: 0.7250 - accuracy: 0.6000\n",
            "Epoch 6/50\n",
            "1/1 [==============================] - 0s 11ms/step - loss: 0.7150 - accuracy: 0.6000\n",
            "Epoch 7/50\n",
            "1/1 [==============================] - 0s 15ms/step - loss: 0.7070 - accuracy: 0.6000\n",
            "Epoch 8/50\n",
            "1/1 [==============================] - 0s 13ms/step - loss: 0.7007 - accuracy: 0.6000\n",
            "Epoch 9/50\n",
            "1/1 [==============================] - 0s 16ms/step - loss: 0.6956 - accuracy: 0.6000\n",
            "Epoch 10/50\n",
            "1/1 [==============================] - 0s 14ms/step - loss: 0.6915 - accuracy: 0.4000\n",
            "Epoch 11/50\n",
            "1/1 [==============================] - 0s 14ms/step - loss: 0.6882 - accuracy: 0.4000\n",
            "Epoch 12/50\n",
            "1/1 [==============================] - 0s 11ms/step - loss: 0.6855 - accuracy: 0.4000\n",
            "Epoch 13/50\n",
            "1/1 [==============================] - 0s 17ms/step - loss: 0.6833 - accuracy: 0.4000\n",
            "Epoch 14/50\n",
            "1/1 [==============================] - 0s 10ms/step - loss: 0.6816 - accuracy: 0.4000\n",
            "Epoch 15/50\n",
            "1/1 [==============================] - 0s 10ms/step - loss: 0.6801 - accuracy: 0.4000\n",
            "Epoch 16/50\n",
            "1/1 [==============================] - 0s 10ms/step - loss: 0.6789 - accuracy: 0.4000\n",
            "Epoch 17/50\n",
            "1/1 [==============================] - 0s 10ms/step - loss: 0.6778 - accuracy: 0.4000\n",
            "Epoch 18/50\n",
            "1/1 [==============================] - 0s 11ms/step - loss: 0.6769 - accuracy: 0.4000\n",
            "Epoch 19/50\n",
            "1/1 [==============================] - 0s 10ms/step - loss: 0.6761 - accuracy: 0.4000\n",
            "Epoch 20/50\n",
            "1/1 [==============================] - 0s 11ms/step - loss: 0.6755 - accuracy: 0.4000\n",
            "Epoch 21/50\n",
            "1/1 [==============================] - 0s 10ms/step - loss: 0.6749 - accuracy: 0.4000\n",
            "Epoch 22/50\n",
            "1/1 [==============================] - 0s 10ms/step - loss: 0.6743 - accuracy: 0.4000\n",
            "Epoch 23/50\n",
            "1/1 [==============================] - 0s 12ms/step - loss: 0.6738 - accuracy: 0.4000\n",
            "Epoch 24/50\n",
            "1/1 [==============================] - 0s 10ms/step - loss: 0.6733 - accuracy: 0.4000\n",
            "Epoch 25/50\n",
            "1/1 [==============================] - 0s 12ms/step - loss: 0.6729 - accuracy: 0.4000\n",
            "Epoch 26/50\n",
            "1/1 [==============================] - 0s 10ms/step - loss: 0.6725 - accuracy: 0.4000\n",
            "Epoch 27/50\n",
            "1/1 [==============================] - 0s 11ms/step - loss: 0.6721 - accuracy: 0.4000\n",
            "Epoch 28/50\n",
            "1/1 [==============================] - 0s 9ms/step - loss: 0.6717 - accuracy: 0.4000\n",
            "Epoch 29/50\n",
            "1/1 [==============================] - 0s 13ms/step - loss: 0.6714 - accuracy: 0.4000\n",
            "Epoch 30/50\n",
            "1/1 [==============================] - 0s 9ms/step - loss: 0.6710 - accuracy: 0.4000\n",
            "Epoch 31/50\n",
            "1/1 [==============================] - 0s 10ms/step - loss: 0.6707 - accuracy: 0.4000\n",
            "Epoch 32/50\n",
            "1/1 [==============================] - 0s 11ms/step - loss: 0.6703 - accuracy: 0.4000\n",
            "Epoch 33/50\n",
            "1/1 [==============================] - 0s 10ms/step - loss: 0.6700 - accuracy: 0.4000\n",
            "Epoch 34/50\n",
            "1/1 [==============================] - 0s 9ms/step - loss: 0.6696 - accuracy: 0.4000\n",
            "Epoch 35/50\n",
            "1/1 [==============================] - 0s 11ms/step - loss: 0.6693 - accuracy: 0.4000\n",
            "Epoch 36/50\n",
            "1/1 [==============================] - 0s 9ms/step - loss: 0.6690 - accuracy: 0.4000\n",
            "Epoch 37/50\n",
            "1/1 [==============================] - 0s 11ms/step - loss: 0.6687 - accuracy: 0.4000\n",
            "Epoch 38/50\n",
            "1/1 [==============================] - 0s 12ms/step - loss: 0.6683 - accuracy: 0.4000\n",
            "Epoch 39/50\n",
            "1/1 [==============================] - 0s 10ms/step - loss: 0.6680 - accuracy: 0.4000\n",
            "Epoch 40/50\n",
            "1/1 [==============================] - 0s 10ms/step - loss: 0.6677 - accuracy: 0.4000\n",
            "Epoch 41/50\n",
            "1/1 [==============================] - 0s 11ms/step - loss: 0.6674 - accuracy: 0.4000\n",
            "Epoch 42/50\n",
            "1/1 [==============================] - 0s 10ms/step - loss: 0.6671 - accuracy: 0.4000\n",
            "Epoch 43/50\n",
            "1/1 [==============================] - 0s 11ms/step - loss: 0.6667 - accuracy: 0.4000\n",
            "Epoch 44/50\n",
            "1/1 [==============================] - 0s 10ms/step - loss: 0.6664 - accuracy: 0.4000\n",
            "Epoch 45/50\n",
            "1/1 [==============================] - 0s 10ms/step - loss: 0.6661 - accuracy: 0.4000\n",
            "Epoch 46/50\n",
            "1/1 [==============================] - 0s 10ms/step - loss: 0.6658 - accuracy: 0.4000\n",
            "Epoch 47/50\n",
            "1/1 [==============================] - 0s 11ms/step - loss: 0.6655 - accuracy: 0.4000\n",
            "Epoch 48/50\n",
            "1/1 [==============================] - 0s 11ms/step - loss: 0.6652 - accuracy: 0.4000\n",
            "Epoch 49/50\n",
            "1/1 [==============================] - 0s 9ms/step - loss: 0.6648 - accuracy: 0.4000\n",
            "Epoch 50/50\n",
            "1/1 [==============================] - 0s 9ms/step - loss: 0.6645 - accuracy: 0.4000\n"
          ]
        },
        {
          "output_type": "execute_result",
          "data": {
            "text/plain": [
              "<keras.src.callbacks.History at 0x7c8ab06edde0>"
            ]
          },
          "metadata": {},
          "execution_count": 17
        }
      ]
    },
    {
      "cell_type": "code",
      "source": [
        "model3.predict([3])"
      ],
      "metadata": {
        "colab": {
          "base_uri": "https://localhost:8080/"
        },
        "id": "5F9_-Tw5USO3",
        "outputId": "1c206fb6-747e-4288-e2a1-2906394e040a"
      },
      "execution_count": null,
      "outputs": [
        {
          "output_type": "stream",
          "name": "stderr",
          "text": [
            "WARNING:tensorflow:5 out of the last 6 calls to <function Model.make_predict_function.<locals>.predict_function at 0x7c8ab073d360> triggered tf.function retracing. Tracing is expensive and the excessive number of tracings could be due to (1) creating @tf.function repeatedly in a loop, (2) passing tensors with different shapes, (3) passing Python objects instead of tensors. For (1), please define your @tf.function outside of the loop. For (2), @tf.function has reduce_retracing=True option that can avoid unnecessary retracing. For (3), please refer to https://www.tensorflow.org/guide/function#controlling_retracing and https://www.tensorflow.org/api_docs/python/tf/function for  more details.\n"
          ]
        },
        {
          "output_type": "stream",
          "name": "stdout",
          "text": [
            "1/1 [==============================] - 0s 148ms/step\n"
          ]
        },
        {
          "output_type": "execute_result",
          "data": {
            "text/plain": [
              "array([[0.5293646]], dtype=float32)"
            ]
          },
          "metadata": {},
          "execution_count": 18
        }
      ]
    },
    {
      "cell_type": "code",
      "source": [],
      "metadata": {
        "id": "cyCvcnYfUXtX"
      },
      "execution_count": null,
      "outputs": []
    }
  ]
}